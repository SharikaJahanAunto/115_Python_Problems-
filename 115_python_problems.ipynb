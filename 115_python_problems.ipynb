{
  "nbformat": 4,
  "nbformat_minor": 0,
  "metadata": {
    "colab": {
      "provenance": []
    },
    "kernelspec": {
      "name": "python3",
      "display_name": "Python 3"
    },
    "language_info": {
      "name": "python"
    }
  },
  "cells": [
    {
      "cell_type": "markdown",
      "source": [
        "1. Variable Swap: Write a Python program to swap the values of two variables without using a temporary variable."
      ],
      "metadata": {
        "id": "Udd47GOVTvz3"
      }
    },
    {
      "cell_type": "code",
      "source": [
        "a= 20\n",
        "b= 15\n",
        "\n",
        "a,b = b,a\n",
        "\n",
        "print (a, b)"
      ],
      "metadata": {
        "colab": {
          "base_uri": "https://localhost:8080/"
        },
        "id": "viiFXowkT5dw",
        "outputId": "57a83d2f-8536-4243-8a8e-f211c03282fb"
      },
      "execution_count": null,
      "outputs": [
        {
          "output_type": "stream",
          "name": "stdout",
          "text": [
            "15 20\n"
          ]
        }
      ]
    },
    {
      "cell_type": "markdown",
      "source": [
        "2. Even or Odd: Write a Python program that takes an integer as input and prints whether it is even or odd."
      ],
      "metadata": {
        "id": "QTx8Ss6dVfk_"
      }
    },
    {
      "cell_type": "code",
      "source": [
        "num = int(input('enter any number'))\n",
        "\n",
        "if (num % 2 == 0):\n",
        "  print(\"The number is even\")\n",
        "else:\n",
        "  print(\"The number is odd\")"
      ],
      "metadata": {
        "colab": {
          "base_uri": "https://localhost:8080/"
        },
        "id": "-Dt6Z9M0VnUu",
        "outputId": "8f9a01c3-47ae-473d-c8a1-2c6bdc68d509"
      },
      "execution_count": null,
      "outputs": [
        {
          "output_type": "stream",
          "name": "stdout",
          "text": [
            "enter any number5\n",
            "The number is odd\n"
          ]
        }
      ]
    },
    {
      "cell_type": "markdown",
      "source": [
        "3. String Reverse: Write a Python function to reverse a given string and return the reversed string."
      ],
      "metadata": {
        "id": "D1g2Z-PVWNFT"
      }
    },
    {
      "cell_type": "code",
      "source": [
        "name = 'Bangladesh'\n",
        "reverse_string = name[::-1]\n",
        "print(reverse_string)"
      ],
      "metadata": {
        "colab": {
          "base_uri": "https://localhost:8080/"
        },
        "id": "0bfbo2GXWVek",
        "outputId": "b8a9748d-082d-4f22-da54-16ca95dd7cf3"
      },
      "execution_count": null,
      "outputs": [
        {
          "output_type": "stream",
          "name": "stdout",
          "text": [
            "hsedalgnaB\n"
          ]
        }
      ]
    },
    {
      "cell_type": "markdown",
      "source": [
        "4. Type Conversion: Given a list of integers, write a Python program to convert each element of the list to a string.\n"
      ],
      "metadata": {
        "id": "V1RY81IzAOnW"
      }
    },
    {
      "cell_type": "code",
      "source": [
        "list_integer = [1,2,3,4,5]\n",
        "list_string = map(str, list_integer)\n",
        "\n",
        "print(list(list_string))"
      ],
      "metadata": {
        "id": "_xMYPYHFXUds",
        "colab": {
          "base_uri": "https://localhost:8080/"
        },
        "outputId": "960003ae-c14a-4c11-abe6-92df83e36698"
      },
      "execution_count": null,
      "outputs": [
        {
          "output_type": "stream",
          "name": "stdout",
          "text": [
            "['1', '2', '3', '4', '5']\n"
          ]
        }
      ]
    },
    {
      "cell_type": "markdown",
      "source": [
        "5. Temperature Converter: Write a Python program that converts a temperature in Celsius to Fahrenheit. Take the Celsius temperature as input from the user."
      ],
      "metadata": {
        "id": "H8nNbZ-nFdMY"
      }
    },
    {
      "cell_type": "code",
      "source": [
        "celsius = float(input('Enter any temperature: '))\n",
        "\n",
        "fahrenheit =  (celsius * 9)/5 + 32\n",
        "\n",
        "print(fahrenheit)"
      ],
      "metadata": {
        "colab": {
          "base_uri": "https://localhost:8080/"
        },
        "id": "rcYxFReaFf-F",
        "outputId": "7d603977-8cce-4af1-a712-a8d1d098c933"
      },
      "execution_count": null,
      "outputs": [
        {
          "output_type": "stream",
          "name": "stdout",
          "text": [
            "Enter any temperature: 4\n",
            "39.2\n"
          ]
        }
      ]
    },
    {
      "cell_type": "markdown",
      "source": [
        "6. Data Type Checker: Write a Python function that takes a variable as input and returns the data type of the variable as a string (e.g., “int”, “float”, “str”, “list”, etc.).\n"
      ],
      "metadata": {
        "id": "BCiU3NwY9P37"
      }
    },
    {
      "cell_type": "code",
      "source": [
        "name = 'sharika'\n",
        "print(type(name))\n",
        "\n",
        "x= 5\n",
        "print(type(x))\n",
        "\n",
        "y= 5.6\n",
        "print(type (y))\n",
        "\n",
        "z= [3,4,5,7]\n",
        "print(type(z))"
      ],
      "metadata": {
        "colab": {
          "base_uri": "https://localhost:8080/"
        },
        "id": "9FQJatSx9VBf",
        "outputId": "3cf07bfd-db23-470e-fcd4-a54be2a32755"
      },
      "execution_count": null,
      "outputs": [
        {
          "output_type": "stream",
          "name": "stdout",
          "text": [
            "<class 'str'>\n",
            "<class 'int'>\n",
            "<class 'float'>\n",
            "<class 'list'>\n"
          ]
        }
      ]
    },
    {
      "cell_type": "markdown",
      "source": [
        "7. String Palindrome: Write a Python function to check if a given string is a palindrome or not."
      ],
      "metadata": {
        "id": "3ELCJqmE-r1R"
      }
    },
    {
      "cell_type": "code",
      "source": [
        "string = input('Enter any string: ')\n",
        "palindrome = string[::-1]\n",
        "\n",
        "if string == palindrome:\n",
        "  print('The string is palindrome')\n",
        "else:\n",
        "  print('The string is not palindrome')"
      ],
      "metadata": {
        "id": "kBiClq7S_Ckd",
        "colab": {
          "base_uri": "https://localhost:8080/"
        },
        "outputId": "bf5d8280-a192-49a1-ef0d-94135af708f8"
      },
      "execution_count": null,
      "outputs": [
        {
          "output_type": "stream",
          "name": "stdout",
          "text": [
            "Enter any string: 4\n",
            "The string is palindrome\n"
          ]
        }
      ]
    },
    {
      "cell_type": "markdown",
      "source": [
        "8. String Reversal with Slicing: Write a Python function to reverse a given string using slicing.\n",
        "\n",
        "\n"
      ],
      "metadata": {
        "id": "lHzlBrLe1H_X"
      }
    },
    {
      "cell_type": "code",
      "source": [
        "Orginal_string= input('enter any string: ')\n",
        "reverse_string= Orginal_string[::-1]\n",
        "\n",
        "print(reverse_string)"
      ],
      "metadata": {
        "colab": {
          "base_uri": "https://localhost:8080/"
        },
        "id": "RHkGS0xm1LDd",
        "outputId": "bff4a6ed-bfb3-4979-8afe-330a6dd315af"
      },
      "execution_count": null,
      "outputs": [
        {
          "output_type": "stream",
          "name": "stdout",
          "text": [
            "enter any string: 4\n",
            "4\n"
          ]
        }
      ]
    },
    {
      "cell_type": "markdown",
      "source": [
        "9. String Concatenation: Write a Python program that takes two strings as input and concatenates them into a single string without using the `+` operator."
      ],
      "metadata": {
        "id": "lgH7IhHj2Sd5"
      }
    },
    {
      "cell_type": "code",
      "source": [
        "string1 = input('enter the first string:')\n",
        "string2 = input('enter the second string:')\n",
        "\n",
        "concatenate_string = ''.join([string1,string2])\n",
        "print(concatenate_string)"
      ],
      "metadata": {
        "colab": {
          "base_uri": "https://localhost:8080/"
        },
        "id": "vtDjlaYL2V4q",
        "outputId": "a041b02e-37bd-465b-adb7-7200a3eb852a"
      },
      "execution_count": null,
      "outputs": [
        {
          "output_type": "stream",
          "name": "stdout",
          "text": [
            "enter the first string:5\n",
            "enter the second string:5\n",
            "55\n"
          ]
        }
      ]
    },
    {
      "cell_type": "markdown",
      "source": [
        "10. Typecasting Challenge: Given three variables: `a = ‘100’`, `b = 25`, and `c = ‘10.5’`, write a Python program to perform the following operations and print the results: – Convert `a` to an integer and add it to `b`. – Convert `c` to a float and subtract it from the result of the first operation. – Convert the final result to a string and concatenate it with the string ” is the answer.”"
      ],
      "metadata": {
        "id": "xIuuhtQZ5dYd"
      }
    },
    {
      "cell_type": "code",
      "source": [
        "a  = '100'\n",
        "b  = 25\n",
        "c = '10.5'\n",
        "\n",
        "a_int = int(a)\n",
        "c_float = float(c)\n",
        "\n",
        "addition = a_int + b\n",
        "subtraction = addition-c_float\n",
        "\n",
        "final_answer = str(subtraction)\n",
        "concatenate = final_answer +' '+'is the answer.'\n",
        "print(concatenate)"
      ],
      "metadata": {
        "colab": {
          "base_uri": "https://localhost:8080/"
        },
        "id": "NvsRhVlq9-tz",
        "outputId": "e6c4eaae-48f0-460a-ac26-5660eca741c9"
      },
      "execution_count": null,
      "outputs": [
        {
          "output_type": "stream",
          "name": "stdout",
          "text": [
            "114.5 is the answer.\n"
          ]
        }
      ]
    },
    {
      "cell_type": "markdown",
      "source": [
        "11. Positive, Negative, or Zero: Write a Python program that takes a number as input and prints whether it is positive, negative, or zero."
      ],
      "metadata": {
        "id": "FRqu_IRRAoMa"
      }
    },
    {
      "cell_type": "code",
      "source": [
        "number = float(input('enter any number: '))\n",
        "\n",
        "if number > 0:\n",
        "  print('The number is positive')\n",
        "elif number < 0:\n",
        "  print('The number is negative')\n",
        "else:\n",
        "  print('The number is zero')"
      ],
      "metadata": {
        "colab": {
          "base_uri": "https://localhost:8080/"
        },
        "id": "7uNlLH3RAuwf",
        "outputId": "955dec69-f19e-4f84-ad8c-2c92979d982e"
      },
      "execution_count": null,
      "outputs": [
        {
          "output_type": "stream",
          "name": "stdout",
          "text": [
            "enter any number: 6\n",
            "The number is positive\n"
          ]
        }
      ]
    },
    {
      "cell_type": "markdown",
      "source": [
        "12. Largest of Three Numbers: Write a Python program that takes three numbers as input and prints the largest among them."
      ],
      "metadata": {
        "id": "Yz2pyLwKByLF"
      }
    },
    {
      "cell_type": "code",
      "source": [
        "a = float(input('enter first number:'))\n",
        "b = float(input('enter second number:'))\n",
        "c = float(input('enter third number:'))\n",
        "\n",
        "if a>b and a>c:\n",
        "  print(a, 'is the largest number')\n",
        "elif b>c and b>a:\n",
        "  print(b, 'is the largest number')\n",
        "else:\n",
        "  print(c, 'is the largest number')"
      ],
      "metadata": {
        "colab": {
          "base_uri": "https://localhost:8080/"
        },
        "id": "yzIBZHbjB2zt",
        "outputId": "85905d69-40f1-443a-ce17-c8f32ddb4b9c"
      },
      "execution_count": null,
      "outputs": [
        {
          "output_type": "stream",
          "name": "stdout",
          "text": [
            "enter first number:6\n",
            "enter second number:6\n",
            "enter third number:67\n",
            "67.0 is the largest number\n"
          ]
        }
      ]
    },
    {
      "cell_type": "markdown",
      "source": [
        "13. Leap Year Checker: Write a Python program that takes a year as input and determines if it is a leap year or not."
      ],
      "metadata": {
        "id": "WF5BWXe-DFIQ"
      }
    },
    {
      "cell_type": "code",
      "source": [
        "year = int(input('enter any year to check leap year:'))\n",
        "\n",
        "if year % 400 == 0 and (year % 4 == 0 and year % 100 != 0):\n",
        "  print('The year is leap year')\n",
        "else:\n",
        "  print('The year is not leap year')"
      ],
      "metadata": {
        "colab": {
          "base_uri": "https://localhost:8080/"
        },
        "id": "j5HTh4cyDOEi",
        "outputId": "00f110ed-6536-4901-8c30-f4b28a0a6dca"
      },
      "execution_count": null,
      "outputs": [
        {
          "output_type": "stream",
          "name": "stdout",
          "text": [
            "enter any year to check leap year:7\n",
            "The year is not leap year\n"
          ]
        }
      ]
    },
    {
      "cell_type": "markdown",
      "source": [
        "14. Grades Classification: Write a Python program that takes a student’s percentage as input and prints their corresponding grade according to the following criteria: – 90% or above: A+ – 80-89%: A – 70-79%: B – 60-69%: C – Below 60%: Fail"
      ],
      "metadata": {
        "id": "RxX0-UEREdmS"
      }
    },
    {
      "cell_type": "code",
      "source": [
        "students_percentage = float(input('enter any students percentage to check grade: '))\n",
        "\n",
        "if students_percentage >= 90:\n",
        "    print('The student got A+')\n",
        "elif students_percentage >= 80:\n",
        "    print('The student got A')\n",
        "elif students_percentage >= 70:\n",
        "    print('The student got B')\n",
        "elif students_percentage >= 60:\n",
        "    print('The student got C')\n",
        "else:\n",
        "    print('The student Failed')\n"
      ],
      "metadata": {
        "colab": {
          "base_uri": "https://localhost:8080/"
        },
        "id": "hZKBWVJOEhQT",
        "outputId": "0f003a0e-09e7-4bb1-8a27-d9926ce54804"
      },
      "execution_count": null,
      "outputs": [
        {
          "output_type": "stream",
          "name": "stdout",
          "text": [
            "enter any students percentage to check grade: 88\n",
            "The student got A\n"
          ]
        }
      ]
    },
    {
      "cell_type": "markdown",
      "source": [
        "15. Vowel or Consonant: Write a Python program that takes a single character as input and determines whether it is a vowel or a consonant."
      ],
      "metadata": {
        "id": "3gxsIKh7HHE5"
      }
    },
    {
      "cell_type": "code",
      "source": [
        "character = str(input('enter any single character: '))\n",
        "\n",
        "if character in ('a','e','i','o','u','A','E','I','O','U'):\n",
        "  print(character, 'is a vowel')\n",
        "else:\n",
        "  print(character, 'is a consonant')"
      ],
      "metadata": {
        "id": "TtndmM1bHLQI",
        "colab": {
          "base_uri": "https://localhost:8080/"
        },
        "outputId": "aab8bea7-bb66-4904-e05b-eef7ec4f4762"
      },
      "execution_count": null,
      "outputs": [
        {
          "output_type": "stream",
          "name": "stdout",
          "text": [
            "enter any single character: 8\n",
            "8 is a consonant\n"
          ]
        }
      ]
    },
    {
      "cell_type": "markdown",
      "source": [
        "16. Time Classification: Write a Python program that takes the time in hours (24-hour format) as input and prints “Good Morning”, “Good Afternoon”, “Good Evening”, or “Good Night” based on the time."
      ],
      "metadata": {
        "id": "9fI7BOA6Cq7W"
      }
    },
    {
      "cell_type": "code",
      "source": [
        "hour = int(input('enter any hour:'))\n",
        "\n",
        "if hour < 0 or hour > 23:\n",
        "  print(\"Invalid hour! Please enter a value between 0 and 23.\")\n",
        "elif 5 <= hour < 12:\n",
        "  print(\"Good Morning\")\n",
        "elif 12 <= hour < 17:\n",
        "  print(\"Good Afternoon\")\n",
        "elif 17 <= hour < 21:\n",
        "  print(\"Good Evening\")\n",
        "else:\n",
        "  print(\"Good Night\")"
      ],
      "metadata": {
        "colab": {
          "base_uri": "https://localhost:8080/"
        },
        "id": "-Mn6M63YDSYq",
        "outputId": "47d902f9-fb26-49b6-c386-b95d5196b9ac"
      },
      "execution_count": null,
      "outputs": [
        {
          "output_type": "stream",
          "name": "stdout",
          "text": [
            "enter any hour:6\n",
            "Good Morning\n"
          ]
        }
      ]
    },
    {
      "cell_type": "markdown",
      "source": [
        "17. Triangle Type Checker: Write a Python program that takes three sides of a triangle as input and determines whether it forms an equilateral, isosceles, or scalene triangle."
      ],
      "metadata": {
        "id": "AxKt9flFFuYm"
      }
    },
    {
      "cell_type": "code",
      "source": [
        "a = float(input(\"Enter the length of side a: \"))\n",
        "b = float(input(\"Enter the length of side b: \"))\n",
        "c = float(input(\"Enter the length of side c: \"))\n",
        "\n",
        "if a + b <= c or a + c <= b or b + c <= a:\n",
        "  print(\"Not a valid triangle\")\n",
        "elif a == b == c:\n",
        "  print(\"Equilateral triangle\")\n",
        "elif a == b or b == c or a == c:\n",
        "  print(\"Isosceles triangle\")\n",
        "else:\n",
        "  print(\"Scalene triangle\")"
      ],
      "metadata": {
        "colab": {
          "base_uri": "https://localhost:8080/"
        },
        "id": "1BM8uPOQFvh2",
        "outputId": "540d2454-b1af-435d-8688-eaae18f63dc6"
      },
      "execution_count": null,
      "outputs": [
        {
          "output_type": "stream",
          "name": "stdout",
          "text": [
            "Enter the length of side a: 6\n",
            "Enter the length of side b: 5\n",
            "Enter the length of side c: 4\n",
            "Scalene triangle\n"
          ]
        }
      ]
    },
    {
      "cell_type": "markdown",
      "source": [
        "18. Quadratic Equation Solver: Write a Python program that takes the coefficients (a, b, c) of a quadratic equation as input and calculates and prints the real roots (if they exist) or a message indicating the complex roots."
      ],
      "metadata": {
        "id": "FOKhRemDHVf0"
      }
    },
    {
      "cell_type": "code",
      "source": [
        "import cmath\n",
        "a = float(input(\"Enter the coefficient a: \"))\n",
        "b = float(input(\"Enter the coefficient b: \"))\n",
        "c = float(input(\"Enter the coefficient c: \"))\n",
        "\n",
        "discriminant = b**2 - 4*a*c\n",
        "\n",
        "if a == 0:\n",
        "  print(\"The coefficient 'a' cannot be zero for a quadratic equation.\")\n",
        "elif discriminant > 0:\n",
        "  root1 = (-b + cmath.sqrt(discriminant).real) / (2 * a)\n",
        "  root2 = (-b - cmath.sqrt(discriminant).real) / (2 * a)\n",
        "  print(f\"The roots are real and distinct: {root1} and {root2}\")\n",
        "elif discriminant == 0:\n",
        "  root = -b / (2 * a)\n",
        "  print(f\"The root is real and repeated: {root}\")\n",
        "else:\n",
        "  root1 = (-b + cmath.sqrt(discriminant)) / (2 * a)\n",
        "  root2 = (-b - cmath.sqrt(discriminant)) / (2 * a)\n",
        "\n",
        "  print(f\"The roots are complex: {root1} and {root2}\")"
      ],
      "metadata": {
        "colab": {
          "base_uri": "https://localhost:8080/"
        },
        "id": "qtIHfImxHYgV",
        "outputId": "8f6858b0-fc18-425a-ad87-b783d3d51cfd"
      },
      "execution_count": null,
      "outputs": [
        {
          "output_type": "stream",
          "name": "stdout",
          "text": [
            "Enter the coefficient a: 4\n",
            "Enter the coefficient b: 4\n",
            "Enter the coefficient c: 6\n",
            "The roots are complex: (-0.5+1.118033988749895j) and (-0.5-1.118033988749895j)\n"
          ]
        }
      ]
    },
    {
      "cell_type": "markdown",
      "source": [
        "19. Number Ranges: Write a Python program that takes an integer as input and prints whether the number falls within the ranges: 0-50, 51-100, 101-150, or above 150."
      ],
      "metadata": {
        "id": "SZc72o4ALs9T"
      }
    },
    {
      "cell_type": "code",
      "source": [
        "number = int(input(\"Enter an integer: \"))\n",
        "\n",
        "if 0 <= number <= 50:\n",
        "  print(\"The number falls within the range 0-50.\")\n",
        "elif 51 <= number <= 100:\n",
        "  print(\"The number falls within the range 51-100.\")\n",
        "elif 101 <= number <= 150:\n",
        "  print(\"The number falls within the range 101-150.\")\n",
        "elif number > 150:\n",
        "  print(\"The number is above 150.\")\n",
        "else:\n",
        "  print(\"The number is below 0.\")"
      ],
      "metadata": {
        "id": "J3lsOo5RLxUg",
        "colab": {
          "base_uri": "https://localhost:8080/"
        },
        "outputId": "7f8f6a19-f3fb-438c-bb73-120a120f402a"
      },
      "execution_count": null,
      "outputs": [
        {
          "output_type": "stream",
          "name": "stdout",
          "text": [
            "Enter an integer: 6\n",
            "The number falls within the range 0-50.\n"
          ]
        }
      ]
    },
    {
      "cell_type": "markdown",
      "source": [
        "20. Sum of N Numbers: Write a Python program using a for loop to calculate the sum of the first N natural numbers, where N is taken as input from the user."
      ],
      "metadata": {
        "id": "mcqGPrjDW2jl"
      }
    },
    {
      "cell_type": "code",
      "source": [
        "N = int(input(\"Enter a positive integer N: \"))\n",
        "\n",
        "sum_of_numbers = 0\n",
        "\n",
        "for i in range(1, N + 1):\n",
        "    sum_of_numbers += i\n",
        "\n",
        "print(\"The sum of the first\", N ,\"natural numbers is:\", sum_of_numbers)\n"
      ],
      "metadata": {
        "colab": {
          "base_uri": "https://localhost:8080/"
        },
        "id": "mp_BCK2iW3--",
        "outputId": "400f40b9-065c-42dd-ed47-860d8ab9a432"
      },
      "execution_count": null,
      "outputs": [
        {
          "output_type": "stream",
          "name": "stdout",
          "text": [
            "Enter a positive integer N: 8\n",
            "The sum of the first 8 natural numbers is: 36\n"
          ]
        }
      ]
    },
    {
      "cell_type": "markdown",
      "source": [
        "21. Factorial Calculator: Write a Python program using a while loop to calculate the factorial of a given number N."
      ],
      "metadata": {
        "id": "rjb2aXp6JohB"
      }
    },
    {
      "cell_type": "code",
      "source": [
        "N = int(input(\"Enter a positive integer N: \"))\n",
        "\n",
        "factorial = 1\n",
        "i = 1\n",
        "\n",
        "while i <= N:\n",
        "    factorial *= i\n",
        "    i += 1\n",
        "\n",
        "print(\"The factorial of\", N, \"is:\", factorial)"
      ],
      "metadata": {
        "colab": {
          "base_uri": "https://localhost:8080/"
        },
        "id": "mkxDiEitJsmi",
        "outputId": "7d8cc001-3ca1-40be-e3e9-fb12e7ed1030"
      },
      "execution_count": null,
      "outputs": [
        {
          "output_type": "stream",
          "name": "stdout",
          "text": [
            "Enter a positive integer N: 4\n",
            "The factorial of 4 is: 24\n"
          ]
        }
      ]
    },
    {
      "cell_type": "markdown",
      "source": [
        "22. Table of a Number: Write a Python program using a for loop to print the multiplication table of a given number N."
      ],
      "metadata": {
        "id": "_b5fjyszKgIg"
      }
    },
    {
      "cell_type": "code",
      "source": [
        "N = int(input(\"Enter a positive integer N: \"))\n",
        "\n",
        "print(f\"Multiplication table for {N}:\")\n",
        "for i in range(1, 11):\n",
        "    print(f\"{N} x {i} = {N * i}\")"
      ],
      "metadata": {
        "colab": {
          "base_uri": "https://localhost:8080/"
        },
        "id": "VsUIpbDuKjt4",
        "outputId": "fc156ee2-f192-4fcb-aa1b-3d5aa0666951"
      },
      "execution_count": null,
      "outputs": [
        {
          "output_type": "stream",
          "name": "stdout",
          "text": [
            "Enter a positive integer N: 5\n",
            "Multiplication table for 5:\n",
            "5 x 1 = 5\n",
            "5 x 2 = 10\n",
            "5 x 3 = 15\n",
            "5 x 4 = 20\n",
            "5 x 5 = 25\n",
            "5 x 6 = 30\n",
            "5 x 7 = 35\n",
            "5 x 8 = 40\n",
            "5 x 9 = 45\n",
            "5 x 10 = 50\n"
          ]
        }
      ]
    },
    {
      "cell_type": "markdown",
      "source": [
        "23. Count Digits in a Number: Write a Python program using a while loop to count the number of digits in a given integer N."
      ],
      "metadata": {
        "id": "rf1ZDc7oLHGm"
      }
    },
    {
      "cell_type": "code",
      "source": [
        "N = int(input(\"Enter an integer N: \"))\n",
        "\n",
        "count = 0\n",
        "\n",
        "if N == 0:\n",
        "    count = 1\n",
        "else:\n",
        "    while N != 0:\n",
        "        N = N // 10\n",
        "        count += 1\n",
        "\n",
        "print(\"The number of digits in the given number is:\", count)"
      ],
      "metadata": {
        "colab": {
          "base_uri": "https://localhost:8080/"
        },
        "id": "bOVk4ZosLQxG",
        "outputId": "04b1b2e6-2441-4498-dca4-ed70178c8c17"
      },
      "execution_count": null,
      "outputs": [
        {
          "output_type": "stream",
          "name": "stdout",
          "text": [
            "Enter an integer N: 7\n",
            "The number of digits in the given number is: 1\n"
          ]
        }
      ]
    },
    {
      "cell_type": "markdown",
      "source": [
        "24. Fibonacci Sequence: Write a Python program using a for loop to generate the Fibonacci sequence up to a given limit N."
      ],
      "metadata": {
        "id": "EmJCW6gYL40c"
      }
    },
    {
      "cell_type": "code",
      "source": [
        "N = int(input(\"Enter the limit N for the Fibonacci sequence: \"))\n",
        "\n",
        "a, b = 0, 1\n",
        "\n",
        "print(\"Fibonacci sequence up to\", N, \":\")\n",
        "for _ in range(N):\n",
        "    print(a, end=\" \")\n",
        "    a, b = b, a + b"
      ],
      "metadata": {
        "colab": {
          "base_uri": "https://localhost:8080/"
        },
        "id": "MKk4WFHLL87E",
        "outputId": "cfc3fc79-a235-4a7e-bb1a-8dbe0085d6b9"
      },
      "execution_count": null,
      "outputs": [
        {
          "output_type": "stream",
          "name": "stdout",
          "text": [
            "Enter the limit N for the Fibonacci sequence: 4\n",
            "Fibonacci sequence up to 4 :\n",
            "0 1 1 2 "
          ]
        }
      ]
    },
    {
      "cell_type": "markdown",
      "source": [
        "25. Sum of Even Numbers: Write a Python program using a while loop to calculate the sum of all even numbers between 1 and N, where N is taken as input from the user."
      ],
      "metadata": {
        "id": "OX36UMiBMgfK"
      }
    },
    {
      "cell_type": "code",
      "source": [
        "N = int(input(\"Enter a positive integer N: \"))\n",
        "\n",
        "sum_of_evens = 0\n",
        "\n",
        "i = 2\n",
        "\n",
        "while i <= N:\n",
        "    sum_of_evens += i\n",
        "    i += 2\n",
        "\n",
        "print(f\"The sum of all even numbers between 1 and {N} is: {sum_of_evens}\")"
      ],
      "metadata": {
        "colab": {
          "base_uri": "https://localhost:8080/"
        },
        "id": "5XQl2SEGMh8K",
        "outputId": "ea48cd65-2d39-4a92-c112-b21625b548a2"
      },
      "execution_count": null,
      "outputs": [
        {
          "output_type": "stream",
          "name": "stdout",
          "text": [
            "Enter a positive integer N: 3\n",
            "The sum of all even numbers between 1 and 3 is: 2\n"
          ]
        }
      ]
    },
    {
      "cell_type": "markdown",
      "source": [
        "26. Print Patterns: Write a Python program using nested for loops to print various patterns, such as a right-angled triangle, an inverted right-angled triangle, and so on."
      ],
      "metadata": {
        "id": "qVr3q-1eM3Pk"
      }
    },
    {
      "cell_type": "code",
      "source": [
        "rows = int(input(\"Enter the number of rows for the right-angled triangle: \"))\n",
        "\n",
        "print(\"Right-Angled Triangle:\")\n",
        "for i in range(1, rows + 1):\n",
        "    for j in range(1, i + 1):\n",
        "        print(\"*\", end=\"\")\n",
        "    print()\n",
        "\n",
        "rows = int(input(\"Enter the number of rows for the inverted right-angled triangle: \"))\n",
        "\n",
        "print(\"Inverted Right-Angled Triangle:\")\n",
        "for i in range(rows, 0, -1):\n",
        "    for j in range(1, i + 1):\n",
        "        print(\"*\", end=\"\")\n",
        "    print()\n",
        "\n",
        "rows = int(input(\"Enter the number of rows for the square pattern: \"))\n",
        "columns = int(input(\"Enter the number of columns for the square pattern: \"))\n",
        "\n",
        "print(\"Square Pattern:\")\n",
        "for i in range(rows):\n",
        "    for j in range(columns):\n",
        "        print(\"*\", end=\"\")\n",
        "    print()\n"
      ],
      "metadata": {
        "colab": {
          "base_uri": "https://localhost:8080/"
        },
        "id": "Q38Gw8yBNJWW",
        "outputId": "969b4fbb-8d83-421b-b468-5f4331804937"
      },
      "execution_count": null,
      "outputs": [
        {
          "output_type": "stream",
          "name": "stdout",
          "text": [
            "Enter the number of rows for the right-angled triangle: 7\n",
            "Right-Angled Triangle:\n",
            "*\n",
            "**\n",
            "***\n",
            "****\n",
            "*****\n",
            "******\n",
            "*******\n",
            "Enter the number of rows for the inverted right-angled triangle: 5\n",
            "Inverted Right-Angled Triangle:\n",
            "*****\n",
            "****\n",
            "***\n",
            "**\n",
            "*\n",
            "Enter the number of rows for the square pattern: 7\n",
            "Enter the number of columns for the square pattern: 8\n",
            "Square Pattern:\n",
            "********\n",
            "********\n",
            "********\n",
            "********\n",
            "********\n",
            "********\n",
            "********\n"
          ]
        }
      ]
    },
    {
      "cell_type": "markdown",
      "source": [
        "27. Prime Number Checker: Write a Python program using a while loop to check if a given number N is prime or not."
      ],
      "metadata": {
        "id": "T2CdiWKmNpB7"
      }
    },
    {
      "cell_type": "code",
      "source": [
        "N = int(input(\"Enter a positive integer N: \"))\n",
        "\n",
        "is_prime = True\n",
        "\n",
        "if N < 2:\n",
        "    is_prime = False\n",
        "else:\n",
        "  i = 2\n",
        "  while i * i <= N:\n",
        "    if N % i == 0:\n",
        "      is_prime = False\n",
        "      break\n",
        "      i += 1\n",
        "\n",
        "if is_prime:\n",
        "    print(f\"{N} is a prime number.\")\n",
        "else:\n",
        "    print(f\"{N} is not a prime number.\")"
      ],
      "metadata": {
        "id": "yFEMvaZtNtg7",
        "colab": {
          "base_uri": "https://localhost:8080/"
        },
        "outputId": "1f0591bf-9eb3-444a-a74b-73c5f258805a"
      },
      "execution_count": null,
      "outputs": [
        {
          "name": "stdout",
          "output_type": "stream",
          "text": [
            "Enter a positive integer N: 5\n"
          ]
        }
      ]
    },
    {
      "cell_type": "markdown",
      "source": [
        "28. List Manipulation: Given a list of integers, write a Python program using a for loop to find the sum, average, maximum, and minimum values in the list."
      ],
      "metadata": {
        "id": "mA38XfPModCD"
      }
    },
    {
      "cell_type": "code",
      "source": [
        "numbers = [23, 34, 45, 60, 70]\n",
        "\n",
        "total_sum = 0\n",
        "max_number = numbers[0]\n",
        "min_number = numbers[0]\n",
        "\n",
        "for number in numbers:\n",
        "  total_sum += number\n",
        "  if number> max_number:\n",
        "    max_number=number\n",
        "  if number> min_number:\n",
        "    min_number=number\n",
        "\n",
        "avg_number = total_sum / len(numbers)\n",
        "\n",
        "print('max_number:',max_number)\n",
        "print('min_number:',min_number)\n",
        "print('total_sum:',total_sum)\n",
        "print('avg_number:',avg_number)"
      ],
      "metadata": {
        "id": "Z1RiGUJWoiLs"
      },
      "execution_count": null,
      "outputs": []
    },
    {
      "cell_type": "markdown",
      "source": [
        "29. Reverse String: Write a Python program using a while loop to reverse a given string."
      ],
      "metadata": {
        "id": "MS7enNjc6jWG"
      }
    },
    {
      "cell_type": "code",
      "source": [
        "string = 'Know Program'\n",
        "\n",
        "i = string\n",
        "reverse = ''\n",
        "while(len(i) > 0):\n",
        "   if(len(i) > 0):\n",
        "      a = i[-1]\n",
        "      i = i[:-1]\n",
        "      reverse += a\n",
        "\n",
        "print('The reverse string is', reverse)"
      ],
      "metadata": {
        "id": "KkR6GD6M6nNn"
      },
      "execution_count": null,
      "outputs": []
    },
    {
      "cell_type": "markdown",
      "source": [
        "30. Multiplication Table: Write a Python program using nested loops to print the multiplication table from 1 to 10."
      ],
      "metadata": {
        "id": "xKkfbCYh_IUU"
      }
    },
    {
      "cell_type": "code",
      "source": [
        "for i in range(1, 11):\n",
        "    for j in range(1, 11):\n",
        "        print(f\"{i} * {j} = {i * j}\")\n",
        "    print()"
      ],
      "metadata": {
        "id": "gkV3sIRQ_ZLM"
      },
      "execution_count": null,
      "outputs": []
    },
    {
      "cell_type": "markdown",
      "source": [
        "31. Print Patterns: Write a Python program using nested loops to print the following pattern:\n",
        "\n",
        "*\n",
        "\n",
        "**\n",
        "\n",
        "***\n",
        "\n",
        "****\n",
        "\n",
        "*****"
      ],
      "metadata": {
        "id": "J0PKofpsAl_Q"
      }
    },
    {
      "cell_type": "code",
      "source": [
        "num_rows = 5\n",
        "\n",
        "for i in range(1, num_rows + 1):\n",
        "    for j in range(i):\n",
        "        print(\"*\", end=\"\")\n",
        "    print()"
      ],
      "metadata": {
        "id": "YKgXf3qSAnQO"
      },
      "execution_count": null,
      "outputs": []
    },
    {
      "cell_type": "markdown",
      "source": [
        "32. Matrix Multiplication: Write a Python program using nested loops to multiply two matrices."
      ],
      "metadata": {
        "id": "CXpSivvWBI8b"
      }
    },
    {
      "cell_type": "code",
      "source": [
        "matrix1 = [[1, 2, 3],\n",
        "           [4, 5, 6]]\n",
        "\n",
        "matrix2 = [[7, 8],\n",
        "           [9, 10],\n",
        "           [11, 12]]\n",
        "\n",
        "result_matrix = [[0, 0],\n",
        "                 [0, 0]]\n",
        "\n",
        "for i in range(len(matrix1)):\n",
        "    for j in range(len(matrix2[0])):\n",
        "        for k in range(len(matrix2)):\n",
        "            result_matrix[i][j] += matrix1[i][k] * matrix2[k][j]\n",
        "\n",
        "# Print the result matrix\n",
        "for row in result_matrix:\n",
        "    print(row)"
      ],
      "metadata": {
        "id": "TZFHhvsmBO-z"
      },
      "execution_count": null,
      "outputs": []
    },
    {
      "cell_type": "markdown",
      "source": [
        "33. Chessboard Pattern: Write a Python program using nested loops to print a chessboard pattern (alternating “X” and “O” characters) of size 8×8.34. Number Pyramid: Write a Python program using nested loops to print a number pyramid like the following: 1 22 333 4444 55555"
      ],
      "metadata": {
        "id": "I6j0R7xiDdKp"
      }
    },
    {
      "cell_type": "code",
      "source": [
        "rows = 5\n",
        "\n",
        "for i in range(1, rows + 1):\n",
        "    for j in range(i):\n",
        "        print(i, end=\" \")\n",
        "    print()"
      ],
      "metadata": {
        "id": "LpKQgzBdDgbH"
      },
      "execution_count": null,
      "outputs": []
    },
    {
      "cell_type": "markdown",
      "source": [
        "34. List Sum: Write a Python program to find the sum of all elements in a given list of integers."
      ],
      "metadata": {
        "id": "UNgapKKbD-E0"
      }
    },
    {
      "cell_type": "code",
      "source": [
        "numbers = [10, 20, 30, 40, 50]\n",
        "\n",
        "list_sum = sum(numbers)\n",
        "\n",
        "print(\"Sum of all elements:\", list_sum)"
      ],
      "metadata": {
        "id": "SRmuKyEzEBF0"
      },
      "execution_count": null,
      "outputs": []
    },
    {
      "cell_type": "markdown",
      "source": [
        "35. List Average: Write a Python program to calculate the average of all elements in a given list of integers."
      ],
      "metadata": {
        "id": "27VEZgyAFG9W"
      }
    },
    {
      "cell_type": "code",
      "source": [
        "numbers = [10, 20, 30, 40, 50]\n",
        "\n",
        "total_sum = sum(numbers)\n",
        "\n",
        "count = len(numbers)\n",
        "\n",
        "average = total_sum / count\n",
        "\n",
        "# Print the average\n",
        "print(\"Average of all elements:\", average)"
      ],
      "metadata": {
        "id": "2Pe4E8W4FNFt"
      },
      "execution_count": null,
      "outputs": []
    },
    {
      "cell_type": "markdown",
      "source": [
        "36. List Max and Min: Write a Python program to find the maximum and minimum values in a given list of integers."
      ],
      "metadata": {
        "id": "z9ycRRLCLNPC"
      }
    },
    {
      "cell_type": "code",
      "source": [
        "numbers = [10, 20, 30, 40, 50]\n",
        "\n",
        "max_value = max(numbers)\n",
        "\n",
        "min_value = min(numbers)\n",
        "\n",
        "print(\"Maximum value:\", max_value)\n",
        "print(\"Minimum value:\", min_value)"
      ],
      "metadata": {
        "id": "0MvbqBwNLQVx"
      },
      "execution_count": null,
      "outputs": []
    },
    {
      "cell_type": "markdown",
      "source": [
        "37. List Sorting: Write a Python program to sort a list of integers in ascending order."
      ],
      "metadata": {
        "id": "mEdOWVy6LqvD"
      }
    },
    {
      "cell_type": "code",
      "source": [
        "numbers = [40, 10, 30, 20, 50]\n",
        "\n",
        "sorted_numbers = sorted(numbers)\n",
        "\n",
        "print(\"Sorted list in ascending order:\", sorted_numbers)"
      ],
      "metadata": {
        "id": "7whyny5BLu60"
      },
      "execution_count": null,
      "outputs": []
    },
    {
      "cell_type": "markdown",
      "source": [
        "38. List Filtering: Given a list of integers, write a Python program to create a new list that contains only the even numbers from the original list."
      ],
      "metadata": {
        "id": "x8F52htHL2Vt"
      }
    },
    {
      "cell_type": "code",
      "source": [
        "numbers = [10, 15, 20, 25, 30, 35, 40]\n",
        "\n",
        "even_numbers = [num for num in numbers if num % 2 == 0]\n",
        "\n",
        "print(\"List of even numbers:\", even_numbers)"
      ],
      "metadata": {
        "id": "QvSuJqcmL7xv"
      },
      "execution_count": null,
      "outputs": []
    },
    {
      "cell_type": "markdown",
      "source": [
        "39. List Reversal: Write a Python program to reverse a given list without using any built-in functions."
      ],
      "metadata": {
        "id": "Kk0eBijSMSxB"
      }
    },
    {
      "cell_type": "code",
      "source": [
        "numbers = [10, 20, 30, 40, 50]\n",
        "\n",
        "reversed_numbers = []\n",
        "\n",
        "for i in range(len(numbers) - 1, -1, -1):\n",
        "    reversed_numbers.append(numbers[i])\n",
        "\n",
        "print(\"Reversed list:\", reversed_numbers)"
      ],
      "metadata": {
        "id": "5VuqF8J6MXAZ"
      },
      "execution_count": null,
      "outputs": []
    },
    {
      "cell_type": "markdown",
      "source": [
        "40. List Manipulation: Given two lists of integers, write a Python program to create a new list that contains elements common to both lists."
      ],
      "metadata": {
        "id": "oxPlALwLMq4W"
      }
    },
    {
      "cell_type": "code",
      "source": [
        "list1 = [1, 2, 3, 4, 5]\n",
        "list2 = [4, 5, 6, 7, 8]\n",
        "\n",
        "common_elements = []\n",
        "\n",
        "for num in list1:\n",
        "    if num in list2:\n",
        "        common_elements.append(num)\n",
        "\n",
        "print(\"Common elements:\", common_elements)"
      ],
      "metadata": {
        "id": "GvU5ZUxWMuAs"
      },
      "execution_count": null,
      "outputs": []
    },
    {
      "cell_type": "markdown",
      "source": [
        "41. List Element Count: Write a Python program to count the occurrences of a specific element in a given list."
      ],
      "metadata": {
        "id": "KFfKcQgwNFQg"
      }
    },
    {
      "cell_type": "code",
      "source": [
        "numbers = [1, 2, 3, 4, 5, 2, 3, 2, 1]\n",
        "\n",
        "element_to_count = 2\n",
        "\n",
        "count = 0\n",
        "\n",
        "for num in numbers:\n",
        "    if num == element_to_count:\n",
        "        count += 1\n",
        "\n",
        "print(f\"Number of occurrences of {element_to_count}: {count}\")"
      ],
      "metadata": {
        "id": "svUZqGr3NIS4"
      },
      "execution_count": null,
      "outputs": []
    },
    {
      "cell_type": "markdown",
      "source": [
        "42. List Duplicates Removal: Write a Python program to remove duplicates from a given list while preserving the order of the elements."
      ],
      "metadata": {
        "id": "zUspzR3lNiYc"
      }
    },
    {
      "cell_type": "code",
      "source": [
        "numbers = [3, 1, 2, 3, 4, 2, 5, 6, 1]\n",
        "\n",
        "unique_numbers = []\n",
        "\n",
        "for num in numbers:\n",
        "    if num not in unique_numbers:\n",
        "        unique_numbers.append(num)\n",
        "\n",
        "print(\"List with duplicates removed:\", unique_numbers)"
      ],
      "metadata": {
        "id": "fgp4l5IYNlR1"
      },
      "execution_count": null,
      "outputs": []
    },
    {
      "cell_type": "markdown",
      "source": [
        "43. List Comprehension: Given a list of integers, write a Python program to create a new list that contains the squares of the elements using list comprehension."
      ],
      "metadata": {
        "id": "I2-KcxObN4yW"
      }
    },
    {
      "cell_type": "code",
      "source": [
        "numbers = [1, 2, 3, 4, 5]\n",
        "\n",
        "squares = [num ** 2 for num in numbers]\n",
        "\n",
        "print(\"List of squares:\", squares)"
      ],
      "metadata": {
        "id": "7uwymeAwN8O5"
      },
      "execution_count": null,
      "outputs": []
    },
    {
      "cell_type": "markdown",
      "source": [
        "44. Matrix Addition: Write a Python program to add two matrices represented as nested lists."
      ],
      "metadata": {
        "id": "A3m9C1TgOKPR"
      }
    },
    {
      "cell_type": "code",
      "source": [
        "def matrix_addition(matrix1, matrix2):\n",
        "\n",
        "    if len(matrix1) != len(matrix2) or len(matrix1[0]) != len(matrix2[0]):\n",
        "        raise ValueError(\"Matrices must have the same dimensions for addition\")\n",
        "\n",
        "    result_matrix = []\n",
        "    for i in range(len(matrix1)):\n",
        "        row = []\n",
        "        for j in range(len(matrix1[0])):\n",
        "            row.append(matrix1[i][j] + matrix2[i][j])\n",
        "        result_matrix.append(row)\n",
        "    return result_matrix\n",
        "\n",
        "matrix1 = [\n",
        "    [1, 2, 3],\n",
        "    [4, 5, 6],\n",
        "    [7, 8, 9]\n",
        "]\n",
        "matrix2 = [\n",
        "    [9, 8, 7],\n",
        "    [6, 5, 4],\n",
        "    [3, 2, 1]\n",
        "]\n",
        "result = matrix_addition(matrix1, matrix2)\n",
        "print(\"Result of matrix addition:\")\n",
        "for row in result:\n",
        "    print(row)\n"
      ],
      "metadata": {
        "id": "DJfDm7DMOOS5",
        "colab": {
          "base_uri": "https://localhost:8080/"
        },
        "outputId": "e551d136-c9cf-403f-d843-26bd44af8107"
      },
      "execution_count": 19,
      "outputs": [
        {
          "output_type": "stream",
          "name": "stdout",
          "text": [
            "Result of matrix addition:\n",
            "[10, 10, 10]\n",
            "[10, 10, 10]\n",
            "[10, 10, 10]\n"
          ]
        }
      ]
    },
    {
      "cell_type": "markdown",
      "source": [
        "45. Flatten Nested List: Write a Python program to flatten a given nested list and convert it into a single-dimensional list."
      ],
      "metadata": {
        "id": "o3TwlkgRPKty"
      }
    },
    {
      "cell_type": "code",
      "source": [
        "def flatten_nested_list(nested_list):\n",
        "\n",
        "    flattened_list = []\n",
        "    for element in nested_list:\n",
        "        if isinstance(element, list):\n",
        "            flattened_list.extend(flatten_nested_list(element))\n",
        "        else:\n",
        "            flattened_list.append(element)\n",
        "    return flattened_list\n",
        "\n",
        "\n",
        "nested_list = [1, [2, 3, [4, 5]], 6, [7, [8, 9]]]\n",
        "flattened_list = flatten_nested_list(nested_list)\n",
        "print(\"Flattened list:\", flattened_list)\n"
      ],
      "metadata": {
        "id": "MdL3hSDKPQVi",
        "colab": {
          "base_uri": "https://localhost:8080/"
        },
        "outputId": "a4851eaf-3555-45ed-c185-33e655380ab4"
      },
      "execution_count": 18,
      "outputs": [
        {
          "output_type": "stream",
          "name": "stdout",
          "text": [
            "Flattened list: [1, 2, 3, 4, 5, 6, 7, 8, 9]\n"
          ]
        }
      ]
    },
    {
      "cell_type": "markdown",
      "source": [
        "46. List Element Frequency: Given a nested list containing lists of integers, write a Python program to count the frequency of each element in the entire nested list."
      ],
      "metadata": {
        "id": "nirLNS4FPleO"
      }
    },
    {
      "cell_type": "code",
      "source": [
        "nested_list = [[1, 2, 3], [2, 3, 4, 5], [1, 3, 2, 3, 4]]\n",
        "\n",
        "frequency = {}\n",
        "\n",
        "for sublist in nested_list:\n",
        "    for element in sublist:\n",
        "        frequency[element] = frequency.get(element, 0) + 1\n",
        "\n",
        "print(\"Frequency of each element:\")\n",
        "for key, value in frequency.items():\n",
        "    print(f\"{key}: {value}\")"
      ],
      "metadata": {
        "id": "aBshAUSuPo_2"
      },
      "execution_count": null,
      "outputs": []
    },
    {
      "cell_type": "markdown",
      "source": [
        "47. Transpose Matrix: Write a Python program to transpose a given matrix represented as a nested list."
      ],
      "metadata": {
        "id": "-7N67CznQInp"
      }
    },
    {
      "cell_type": "code",
      "source": [
        "matrix = [[1, 2, 3],\n",
        "          [4, 5, 6],\n",
        "          [7, 8, 9]]\n",
        "\n",
        "transpose_matrix = [list(row) for row in zip(*matrix)]\n",
        "\n",
        "print(\"Transposed Matrix:\")\n",
        "for row in transpose_matrix:\n",
        "    print(row)"
      ],
      "metadata": {
        "id": "bzoHvcFYQM1j"
      },
      "execution_count": null,
      "outputs": []
    },
    {
      "cell_type": "markdown",
      "source": [
        "48. List of Lists Concatenation: Given a list of nested lists, write a Python program to concatenate all the sublists into a single flat list."
      ],
      "metadata": {
        "id": "ls4nktVoQl8m"
      }
    },
    {
      "cell_type": "code",
      "source": [
        "nested_lists = [[1, 2, 3], [4, 5], [6, 7, 8]]\n",
        "\n",
        "flat_list = [element for sublist in nested_lists for element in sublist]\n",
        "\n",
        "print(\"Flat list:\", flat_list)"
      ],
      "metadata": {
        "id": "XK7-_lOCQpt-"
      },
      "execution_count": null,
      "outputs": []
    },
    {
      "cell_type": "markdown",
      "source": [
        "49. Tuple Concatenation: Write a Python program to concatenate two tuples and create a new tuple."
      ],
      "metadata": {
        "id": "ud-aKTSVRRB8"
      }
    },
    {
      "cell_type": "code",
      "source": [
        "tuple1 = (1, 2, 3)\n",
        "tuple2 = (4, 5, 6)\n",
        "\n",
        "concatenated_tuple = tuple1 + tuple2\n",
        "\n",
        "print(\"Concatenated tuple:\", concatenated_tuple)"
      ],
      "metadata": {
        "id": "mP3-VTDQRVR0"
      },
      "execution_count": null,
      "outputs": []
    },
    {
      "cell_type": "markdown",
      "source": [
        "50. Tuple Unpacking: Given a tuple with three elements (x, y, z), write a Python program to unpack the tuple and assign the values to three variables."
      ],
      "metadata": {
        "id": "f9fQNCNFRnuH"
      }
    },
    {
      "cell_type": "code",
      "source": [
        "my_tuple = (10, 20, 30)\n",
        "\n",
        "x, y, z = my_tuple\n",
        "\n",
        "print(\"Value of x:\", x)\n",
        "print(\"Value of y:\", y)\n",
        "print(\"Value of z:\", z)"
      ],
      "metadata": {
        "id": "fT8XcRqFRqhY"
      },
      "execution_count": null,
      "outputs": []
    },
    {
      "cell_type": "markdown",
      "source": [
        "51. Tuple Sorting: Write a Python program to sort a tuple of integers in ascending order."
      ],
      "metadata": {
        "id": "1JhXFzjSR1ow"
      }
    },
    {
      "cell_type": "code",
      "source": [
        "my_tuple = (5, 2, 8, 1, 9)\n",
        "\n",
        "sorted_tuple = tuple(sorted(my_tuple))\n",
        "\n",
        "print(\"Sorted tuple:\", sorted_tuple)"
      ],
      "metadata": {
        "id": "UcrB_qi7R4iZ"
      },
      "execution_count": null,
      "outputs": []
    },
    {
      "cell_type": "markdown",
      "source": [
        "52. Tuple Frequency Count: Given a tuple containing various elements, write a Python program to count the frequency of a specific element in the tuple."
      ],
      "metadata": {
        "id": "whtM5MAyStW4"
      }
    },
    {
      "cell_type": "code",
      "source": [
        "my_tuple = (1, 2, 3, 2, 4, 2, 5, 2)\n",
        "\n",
        "element_to_count = 2\n",
        "\n",
        "frequency = my_tuple.count(element_to_count)\n",
        "\n",
        "print(f\"Frequency of {element_to_count}: {frequency}\")"
      ],
      "metadata": {
        "id": "MLizxRY8SxUh"
      },
      "execution_count": null,
      "outputs": []
    },
    {
      "cell_type": "markdown",
      "source": [
        "53. Tuple to List: Write a Python program to convert a tuple into a list."
      ],
      "metadata": {
        "id": "qwyuhJ08TCUC"
      }
    },
    {
      "cell_type": "code",
      "source": [
        "my_tuple = (1, 2, 3, 4, 5)\n",
        "\n",
        "my_list = list(my_tuple)\n",
        "\n",
        "print(\"Converted list:\", my_list)"
      ],
      "metadata": {
        "id": "D0lMXTfhWXfm"
      },
      "execution_count": null,
      "outputs": []
    },
    {
      "cell_type": "markdown",
      "source": [
        "54. Tuple Reversal: Write a Python program to reverse a tuple without using any built-in functions."
      ],
      "metadata": {
        "id": "xJmT-AARWlNh"
      }
    },
    {
      "cell_type": "code",
      "source": [
        "def reverse_tuple(input_tuple):\n",
        "\n",
        "    reversed_tuple = ()\n",
        "    for i in range(len(input_tuple)):\n",
        "        reversed_tuple = (input_tuple[i],) + reversed_tuple\n",
        "    return reversed_tuple\n",
        "\n",
        "\n",
        "input_tuple = (1, 2, 3, 4, 5)\n",
        "reversed_tuple = reverse_tuple(input_tuple)\n",
        "print(\"Reversed tuple:\", reversed_tuple)\n"
      ],
      "metadata": {
        "id": "oEcZ29Y6Wr8S",
        "colab": {
          "base_uri": "https://localhost:8080/"
        },
        "outputId": "eb437896-7f5d-459a-98fe-1c96f90564d6"
      },
      "execution_count": 17,
      "outputs": [
        {
          "output_type": "stream",
          "name": "stdout",
          "text": [
            "Reversed tuple: (5, 4, 3, 2, 1)\n"
          ]
        }
      ]
    },
    {
      "cell_type": "markdown",
      "source": [
        "55. Tuple Slicing: Given a tuple, write a Python program to extract a slice of elements from it."
      ],
      "metadata": {
        "id": "TsO9P7UvW6Y7"
      }
    },
    {
      "cell_type": "code",
      "source": [
        "my_tuple = (1, 2, 3, 4, 5, 6, 7, 8, 9, 10)\n",
        "\n",
        "slice_of_tuple = my_tuple[2:7]\n",
        "\n",
        "print(\"Slice of tuple:\", slice_of_tuple)"
      ],
      "metadata": {
        "id": "BJOtDUGzW9rs"
      },
      "execution_count": null,
      "outputs": []
    },
    {
      "cell_type": "markdown",
      "source": [
        "56. Tuple Operations: Given two tuples of integers, write a Python program to perform element-wise addition, subtraction, and multiplication and create new tuples for each operation."
      ],
      "metadata": {
        "id": "bGRDaFb7XLrw"
      }
    },
    {
      "cell_type": "code",
      "source": [
        "tuple1 = (1, 2, 3, 4, 5)\n",
        "tuple2 = (6, 7, 8, 9, 10)\n",
        "\n",
        "addition_result = tuple(x + y for x, y in zip(tuple1, tuple2))\n",
        "\n",
        "subtraction_result = tuple(x - y for x, y in zip(tuple1, tuple2))\n",
        "\n",
        "multiplication_result = tuple(x * y for x, y in zip(tuple1, tuple2))\n",
        "\n",
        "print(\"Element-wise Addition:\", addition_result)\n",
        "print(\"Element-wise Subtraction:\", subtraction_result)\n",
        "print(\"Element-wise Multiplication:\", multiplication_result)"
      ],
      "metadata": {
        "id": "dePQsblgXO-I"
      },
      "execution_count": null,
      "outputs": []
    },
    {
      "cell_type": "markdown",
      "source": [
        "57. Tuple Membership Test: Write a Python program that takes an element as input and checks if it exists in a given tuple."
      ],
      "metadata": {
        "id": "JTjC7TlIXwCK"
      }
    },
    {
      "cell_type": "code",
      "source": [
        "my_tuple = (1, 2, 3, 4, 5)\n",
        "\n",
        "element_to_check = int(input(\"Enter an element to check its existence in the tuple: \"))\n",
        "\n",
        "if element_to_check in my_tuple:\n",
        "    print(f\"{element_to_check} exists in the tuple.\")\n",
        "else:\n",
        "    print(f\"{element_to_check} does not exist in the tuple.\")"
      ],
      "metadata": {
        "id": "7KILik-KXz-z"
      },
      "execution_count": null,
      "outputs": []
    },
    {
      "cell_type": "markdown",
      "source": [
        "58. Tuple Packing: Write a Python program to pack three variables into a single tuple and print the tuple."
      ],
      "metadata": {
        "id": "gSPDeCC2YGyw"
      }
    },
    {
      "cell_type": "code",
      "source": [
        "var1 = 10\n",
        "var2 = \"Hello\"\n",
        "var3 = [1, 2, 3]\n",
        "\n",
        "packed_tuple = (var1, var2, var3)\n",
        "\n",
        "print(\"Packed tuple:\", packed_tuple)"
      ],
      "metadata": {
        "id": "mhkg4Tf6YMfW"
      },
      "execution_count": null,
      "outputs": []
    },
    {
      "cell_type": "markdown",
      "source": [
        "59. Nested List Element Access: Given a nested list, write a Python program to access and print specific elements from it."
      ],
      "metadata": {
        "id": "lmA_Y2TgYZ8h"
      }
    },
    {
      "cell_type": "code",
      "source": [
        "nested_list = [[1, 2, 3], [4, 5, 6], [7, 8, 9]]\n",
        "\n",
        "print(\"Element at index [0][0]:\", nested_list[0][0])\n",
        "print(\"Element at index [1][2]:\", nested_list[1][2])\n",
        "print(\"Element at index [2][1]:\", nested_list[2][1])"
      ],
      "metadata": {
        "id": "FkKbhETqYerp"
      },
      "execution_count": null,
      "outputs": []
    },
    {
      "cell_type": "markdown",
      "source": [
        "60. Nested List Flattening: Write a Python program to flatten a nested list and convert it into a single-dimensional list."
      ],
      "metadata": {
        "id": "RxcJuEaIYo9b"
      }
    },
    {
      "cell_type": "code",
      "source": [
        "def flatten_nested_list(nested_list):\n",
        "\n",
        "    flattened_list = []\n",
        "    for sublist in nested_list:\n",
        "        if isinstance(sublist, list):\n",
        "            flattened_list.extend(flatten_nested_list(sublist))\n",
        "        else:\n",
        "            flattened_list.append(sublist)\n",
        "    return flattened_list\n",
        "\n",
        "\n",
        "nested_list = [1, [2, 3, [4, 5]], 6, [7, [8, 9]]]\n",
        "flattened_list = flatten_nested_list(nested_list)\n",
        "print(\"Flattened list:\", flattened_list)\n"
      ],
      "metadata": {
        "id": "dkRCynobYsdz",
        "colab": {
          "base_uri": "https://localhost:8080/"
        },
        "outputId": "2cab5154-964c-4ef8-c09c-944d198837a6"
      },
      "execution_count": 16,
      "outputs": [
        {
          "output_type": "stream",
          "name": "stdout",
          "text": [
            "Flattened list: [1, 2, 3, 4, 5, 6, 7, 8, 9]\n"
          ]
        }
      ]
    },
    {
      "cell_type": "markdown",
      "source": [
        "61. Nested List Sorting: Given a nested list containing lists of integers, write a Python program to sort the sublists based on their lengths."
      ],
      "metadata": {
        "id": "zTLRXjO0ZRyg"
      }
    },
    {
      "cell_type": "code",
      "source": [
        "nested_list = [[1, 2, 3], [4, 5], [6, 7, 8, 9], [10]]\n",
        "\n",
        "sorted_nested_list = sorted(nested_list, key=len)\n",
        "\n",
        "print(\"Sorted nested list based on lengths of sublists:\", sorted_nested_list)"
      ],
      "metadata": {
        "id": "cUGFv8wHZWRg"
      },
      "execution_count": null,
      "outputs": []
    },
    {
      "cell_type": "markdown",
      "source": [
        "62. List of Tuples Conversion: Given a nested list containing tuples of (x, y) coordinates, write a Python program to convert it into a list of x-coordinates and a list of y-coordinates."
      ],
      "metadata": {
        "id": "U4tKE5g6ZyKH"
      }
    },
    {
      "cell_type": "code",
      "source": [
        "def convert_coordinates(nested_list):\n",
        "\n",
        "    x_coordinates = [point[0] for sublist in nested_list for point in sublist]\n",
        "    y_coordinates = [point[1] for sublist in nested_list for point in sublist]\n",
        "    return x_coordinates, y_coordinates\n",
        "\n",
        "\n",
        "nested_list = [\n",
        "    [(1, 2), (3, 4), (5, 6)],\n",
        "    [(7, 8), (9, 10), (11, 12)]\n",
        "]\n",
        "x_coords, y_coords = convert_coordinates(nested_list)\n",
        "print(\"List of x-coordinates:\", x_coords)\n",
        "print(\"List of y-coordinates:\", y_coords)\n"
      ],
      "metadata": {
        "id": "IQhNiyxNZ1ou",
        "colab": {
          "base_uri": "https://localhost:8080/"
        },
        "outputId": "6deb4de8-afe3-498a-f9e6-2d306d1ca143"
      },
      "execution_count": 15,
      "outputs": [
        {
          "output_type": "stream",
          "name": "stdout",
          "text": [
            "List of x-coordinates: [1, 3, 5, 7, 9, 11]\n",
            "List of y-coordinates: [2, 4, 6, 8, 10, 12]\n"
          ]
        }
      ]
    },
    {
      "cell_type": "markdown",
      "source": [
        "63. Matrix Transpose: Write a Python program to transpose a given matrix represented as a nested list."
      ],
      "metadata": {
        "id": "gLJpydKGaDMQ"
      }
    },
    {
      "cell_type": "code",
      "source": [
        "matrix = [\n",
        "    [1, 2, 3],\n",
        "    [4, 5, 6],\n",
        "    [7, 8, 9]\n",
        "]\n",
        "\n",
        "transposed_matrix = [list(row) for row in zip(*matrix)]\n",
        "\n",
        "print(\"Transposed matrix:\")\n",
        "for row in transposed_matrix:\n",
        "    print(row)"
      ],
      "metadata": {
        "id": "971IdFCuaF1O"
      },
      "execution_count": null,
      "outputs": []
    },
    {
      "cell_type": "markdown",
      "source": [
        "64. Nested List Concatenation: Given a list of nested lists, write a Python program to concatenate all the sublists into a single flat list."
      ],
      "metadata": {
        "id": "y63_fvU-aVNx"
      }
    },
    {
      "cell_type": "code",
      "source": [
        "nested_lists = [[1, 2, 3], [4, 5], [6, 7, 8, 9], [10]]\n",
        "\n",
        "flat_list = [item for sublist in nested_lists for item in sublist]\n",
        "\n",
        "print(\"Flattened list:\", flat_list)"
      ],
      "metadata": {
        "id": "BrEsD9blaYbi"
      },
      "execution_count": null,
      "outputs": []
    },
    {
      "cell_type": "markdown",
      "source": [
        "65. Count Even Numbers: Write a Python program to count the number of even numbers in a nested list."
      ],
      "metadata": {
        "id": "fsCfkWANbNlZ"
      }
    },
    {
      "cell_type": "code",
      "source": [
        "def count_even_numbers(nested_list):\n",
        "\n",
        "    count = 0\n",
        "    for sublist in nested_list:\n",
        "        for element in sublist:\n",
        "            if isinstance(element, int) and element % 2 == 0:\n",
        "                count += 1\n",
        "    return count\n",
        "\n",
        "nested_list = [\n",
        "    [1, 2, 3],\n",
        "    [4, 5, 6],\n",
        "    [7, 8, 9]\n",
        "]\n",
        "even_count = count_even_numbers(nested_list)\n",
        "print(f\"The number of even numbers in the nested list is: {even_count}\")\n"
      ],
      "metadata": {
        "id": "00NOMEcBbQu5",
        "colab": {
          "base_uri": "https://localhost:8080/"
        },
        "outputId": "1a92884d-7699-494c-c2a4-9f3e2590d735"
      },
      "execution_count": 14,
      "outputs": [
        {
          "output_type": "stream",
          "name": "stdout",
          "text": [
            "The number of even numbers in the nested list is: 4\n"
          ]
        }
      ]
    },
    {
      "cell_type": "markdown",
      "source": [
        "66. Maximum Element in Nested List: Write a Python program to find the maximum element in a nested list of integers."
      ],
      "metadata": {
        "id": "pSPmLh9FcD-4"
      }
    },
    {
      "cell_type": "code",
      "source": [
        "def find_max_nested_list(nested_list):\n",
        "\n",
        "    max_element = float('-inf')\n",
        "    for sublist in nested_list:\n",
        "        for element in sublist:\n",
        "            if isinstance(element, int):\n",
        "                max_element = max(max_element, element)\n",
        "    return max_element\n",
        "\n",
        "\n",
        "nested_list = [\n",
        "    [1, 2, 3],\n",
        "    [4, 5, 6],\n",
        "    [7, 8, 9]\n",
        "]\n",
        "max_element = find_max_nested_list(nested_list)\n",
        "print(f\"The maximum element in the nested list is: {max_element}\")\n"
      ],
      "metadata": {
        "id": "lQG5iWK3cKdR",
        "colab": {
          "base_uri": "https://localhost:8080/"
        },
        "outputId": "f87ad021-8aa8-4dbf-d7ea-3bb492f492f5"
      },
      "execution_count": 13,
      "outputs": [
        {
          "output_type": "stream",
          "name": "stdout",
          "text": [
            "The maximum element in the nested list is: 9\n"
          ]
        }
      ]
    },
    {
      "cell_type": "markdown",
      "source": [
        "67. Diagonal Sum of Matrix: Given a square matrix represented as a nested list, write a Python program to calculate the sum of the elements in the main diagonal."
      ],
      "metadata": {
        "id": "MX611CeWclZ7"
      }
    },
    {
      "cell_type": "code",
      "source": [
        "def diagonal_sum(matrix):\n",
        "\n",
        "    diagonal_sum = 0\n",
        "    for i in range(len(matrix)):\n",
        "        diagonal_sum += matrix[i][i]\n",
        "    return diagonal_sum\n",
        "\n",
        "\n",
        "matrix = [\n",
        "    [1, 2, 3],\n",
        "    [4, 5, 6],\n",
        "    [7, 8, 9]\n",
        "]\n",
        "main_diagonal_sum = diagonal_sum(matrix)\n",
        "print(f\"The sum of the elements in the main diagonal is: {main_diagonal_sum}\")\n"
      ],
      "metadata": {
        "id": "Oqj9z7lKcnCU",
        "colab": {
          "base_uri": "https://localhost:8080/"
        },
        "outputId": "d954b9c1-2fb5-452e-f011-b0080a36235e"
      },
      "execution_count": 12,
      "outputs": [
        {
          "output_type": "stream",
          "name": "stdout",
          "text": [
            "The sum of the elements in the main diagonal is: 15\n"
          ]
        }
      ]
    },
    {
      "cell_type": "markdown",
      "source": [
        "68. Nested List Element Search: Write a Python program to search for a specific element in a nested list and return its position (row and column indices)."
      ],
      "metadata": {
        "id": "tAO10QFiV-W_"
      }
    },
    {
      "cell_type": "code",
      "source": [
        "def search_nested_list(nested_list, target):\n",
        "\n",
        "    for i, row in enumerate(nested_list):\n",
        "        for j, element in enumerate(row):\n",
        "            if element == target:\n",
        "                return i, j\n",
        "    return None\n",
        "\n",
        "\n",
        "nested_list = [\n",
        "    [1, 2, 3],\n",
        "    [4, 5, 6],\n",
        "    [7, 8, 9]\n",
        "]\n",
        "target_element = 5\n",
        "position = search_nested_list(nested_list, target_element)\n",
        "if position:\n",
        "    print(f\"The element {target_element} is at position {position}\")\n",
        "else:\n",
        "    print(f\"The element {target_element} is not found in the nested list\")\n"
      ],
      "metadata": {
        "id": "nC32GmNWWDXJ",
        "colab": {
          "base_uri": "https://localhost:8080/"
        },
        "outputId": "9c052f2b-88e4-4fbe-f92a-984932eb3531"
      },
      "execution_count": 11,
      "outputs": [
        {
          "output_type": "stream",
          "name": "stdout",
          "text": [
            "The element 5 is at position (1, 1)\n"
          ]
        }
      ]
    },
    {
      "cell_type": "markdown",
      "source": [
        "69. Duplicate Removal: Write a Python program that takes a list of elements as input and creates a new set containing only the unique elements from the list."
      ],
      "metadata": {
        "id": "FlcPwlJcWKER"
      }
    },
    {
      "cell_type": "code",
      "source": [
        "def remove_duplicates(input_list):\n",
        "\n",
        "    return set(input_list)\n",
        "\n",
        "\n",
        "try:\n",
        "    user_input = input(\"Enter a list of elements separated by spaces: \")\n",
        "    input_list = user_input.split()\n",
        "    unique_elements = remove_duplicates(input_list)\n",
        "    print(f\"The set of unique elements is: {unique_elements}\")\n",
        "except Exception as e:\n",
        "    print(f\"An error occurred: {e}\")"
      ],
      "metadata": {
        "id": "kF9xzQw2WLTh",
        "colab": {
          "base_uri": "https://localhost:8080/"
        },
        "outputId": "e85c8a41-8f98-4427-d885-872207781c64"
      },
      "execution_count": 10,
      "outputs": [
        {
          "output_type": "stream",
          "name": "stdout",
          "text": [
            "Enter a list of elements separated by spaces: apple orange apple banana\n",
            "The set of unique elements is: {'orange', 'banana', 'apple'}\n"
          ]
        }
      ]
    },
    {
      "cell_type": "markdown",
      "source": [
        "70. Set Intersection: Given two sets A and B, write a Python program to find their intersection and print the common elements."
      ],
      "metadata": {
        "id": "9-4g-eDXHMts"
      }
    },
    {
      "cell_type": "code",
      "source": [
        "set_A = {2,3,4}\n",
        "set_B = {3,4,5}\n",
        "\n",
        "print(set_A & set_B)"
      ],
      "metadata": {
        "id": "z8aZx_osHOMa"
      },
      "execution_count": null,
      "outputs": []
    },
    {
      "cell_type": "markdown",
      "source": [
        "71. Set Union: Given two sets A and B, write a Python program to find their union and print all the distinct elements from both sets."
      ],
      "metadata": {
        "id": "taSX0LyVHsAl"
      }
    },
    {
      "cell_type": "code",
      "source": [
        "set_A = {2,3,4}\n",
        "set_B = {3,4,5}\n",
        "\n",
        "print(set_A | set_B)"
      ],
      "metadata": {
        "id": "aYNqhcdzHvXW"
      },
      "execution_count": null,
      "outputs": []
    },
    {
      "cell_type": "markdown",
      "source": [
        "72. Set Difference: Given two sets A and B, write a Python program to find the difference between set A and set B (i.e., elements present in A but not in B) and print the result."
      ],
      "metadata": {
        "id": "2VLVQbegIB0A"
      }
    },
    {
      "cell_type": "code",
      "source": [
        "set_A = {2,3,4}\n",
        "set_B = {3,4,5}\n",
        "\n",
        "print(set_A.difference(set_B))\n",
        "\n"
      ],
      "metadata": {
        "id": "DmEg5l89IQYK"
      },
      "execution_count": null,
      "outputs": []
    },
    {
      "cell_type": "markdown",
      "source": [
        "73. Set Symmetric Difference: Given two sets A and B, write a Python program to find the symmetric difference between the two sets (i.e., elements that are present in either set A or set B, but not in both) and print the result."
      ],
      "metadata": {
        "id": "aUgr5PjVJai-"
      }
    },
    {
      "cell_type": "code",
      "source": [
        "set_A = {2,3,4}\n",
        "set_B = {3,4,5}\n",
        "\n",
        "print(set_A.symmetric_difference(set_B))"
      ],
      "metadata": {
        "id": "mIu5yTA-IGh5"
      },
      "execution_count": null,
      "outputs": []
    },
    {
      "cell_type": "markdown",
      "source": [
        "74. Set Operations: Given three sets A, B, and C, write a Python program to find and print the intersection of A and B, the union of B and C, and the difference between C and A."
      ],
      "metadata": {
        "id": "gqZHb5YmJySX"
      }
    },
    {
      "cell_type": "code",
      "source": [
        "set_A = {2,3,4}\n",
        "set_B = {3,4,5}\n",
        "set_C = {5,8,9}\n",
        "\n",
        "print(set_A & set_B)\n",
        "print(set_B & set_C)\n",
        "print(set_C.difference(set_A))"
      ],
      "metadata": {
        "id": "OSuzqYxDJ1hg"
      },
      "execution_count": null,
      "outputs": []
    },
    {
      "cell_type": "markdown",
      "source": [
        "75. Set Subset Check: Given two sets A and B, write a Python program to check if set A is a subset of set B and print the result."
      ],
      "metadata": {
        "id": "09SHstmZO_xu"
      }
    },
    {
      "cell_type": "code",
      "source": [
        "set_A = {2,3,4}\n",
        "set_B = {3,4,5}\n",
        "\n",
        "if set_A.issubset(set_B):\n",
        "  print('Set A is a subset of Set B')\n",
        "else:\n",
        "  print('Set A is not a subset of Set B')"
      ],
      "metadata": {
        "id": "n2I4NaxvPFfl"
      },
      "execution_count": null,
      "outputs": []
    },
    {
      "cell_type": "markdown",
      "source": [
        "76. Set Superset Check: Given two sets A and B, write a Python program to check if set A is a superset of set B and print the result."
      ],
      "metadata": {
        "id": "FChaY3gBP-ag"
      }
    },
    {
      "cell_type": "code",
      "source": [
        "set_A = {2,3,4}\n",
        "set_B = {3,4,5}\n",
        "\n",
        "if set_A.issuperset(set_B):\n",
        "  print('Set A is a superset of Set B')\n",
        "else:\n",
        "  print('Set A is not a superset of Set B')"
      ],
      "metadata": {
        "id": "UtzFe6pGQDZu"
      },
      "execution_count": null,
      "outputs": []
    },
    {
      "cell_type": "markdown",
      "source": [
        "77. Set Length Check: Write a Python program that takes a set as input and prints the number of elements in the set."
      ],
      "metadata": {
        "id": "WLnb-1-_QVEw"
      }
    },
    {
      "cell_type": "code",
      "source": [
        "def set_length(input_set):\n",
        "\n",
        "    print(\"Number of elements in the set:\", len(input_set))\n",
        "\n",
        "\n",
        "try:\n",
        "    user_input = input(\"Enter elements of the set separated by spaces: \")\n",
        "    input_set = set(user_input.split())\n",
        "    set_length(input_set)\n",
        "except ValueError:\n",
        "    print(\"Invalid input. Please enter elements separated by spaces.\")\n"
      ],
      "metadata": {
        "id": "_E0e_kqTQYYo",
        "colab": {
          "base_uri": "https://localhost:8080/"
        },
        "outputId": "343c6744-ad42-4d63-e2e6-967f10a83b6f"
      },
      "execution_count": 20,
      "outputs": [
        {
          "output_type": "stream",
          "name": "stdout",
          "text": [
            "Enter elements of the set separated by spaces: 6 7 8\n",
            "Number of elements in the set: 3\n"
          ]
        }
      ]
    },
    {
      "cell_type": "markdown",
      "source": [
        "76. Set Membership Test: Write a Python program that takes an element as input and checks if it exists in a given set. Print “Found” if the element is present and “Not Found” otherwise."
      ],
      "metadata": {
        "id": "t6ijG_4IQ7wG"
      }
    },
    {
      "cell_type": "code",
      "source": [
        "# Define the set\n",
        "given_set = {'apple', 'banana', 'cherry', 'date', 'fig', 'grape'}\n",
        "\n",
        "# Take an element as input from the user\n",
        "element = input(\"Enter an element to check: \")\n",
        "\n",
        "# Check if the element is in the set\n",
        "if element in given_set:\n",
        "    print(\"Found\")\n",
        "else:\n",
        "    print(\"Not Found\")\n",
        "\n"
      ],
      "metadata": {
        "id": "XVu8mYYlQ_Te",
        "colab": {
          "base_uri": "https://localhost:8080/"
        },
        "outputId": "09dcdd01-9669-4c38-b74e-6bc689dc84d8"
      },
      "execution_count": null,
      "outputs": [
        {
          "output_type": "stream",
          "name": "stdout",
          "text": [
            "Enter an element to check: apple\n",
            "Found\n"
          ]
        }
      ]
    },
    {
      "cell_type": "markdown",
      "source": [
        "77. Dictionary Manipulation: Given a dictionary with student names as keys and their corresponding scores as values, write a Python program to add a new student to the dictionary and update the score of an existing student."
      ],
      "metadata": {
        "id": "fzKuLPgTGZvH"
      }
    },
    {
      "cell_type": "code",
      "source": [
        "student_scores = {\n",
        "    'Alice': 85,\n",
        "    'Bob': 92,\n",
        "    'Charlie': 78\n",
        "}\n",
        "\n",
        "\n",
        "new_student_name = 'David'\n",
        "new_student_score = 88\n",
        "\n",
        "student_scores[new_student_name] = new_student_score\n",
        "print(f\"Added student {new_student_name} with score {new_student_score}.\")\n",
        "\n",
        "existing_student_name = 'Alice'\n",
        "updated_score = 90\n",
        "\n",
        "if existing_student_name in student_scores:\n",
        "    student_scores[existing_student_name] = updated_score\n",
        "    print(f\"Updated {existing_student_name}'s score to {updated_score}.\")\n",
        "else:\n",
        "    print(f\"Student {existing_student_name} does not exist. Unable to update score.\")\n",
        "\n",
        "print(\"Updated student scores:\", student_scores)\n"
      ],
      "metadata": {
        "id": "djlikMvOGhm-",
        "colab": {
          "base_uri": "https://localhost:8080/"
        },
        "outputId": "b2df01fc-3a4d-4ad3-b676-80505ffd6ff8"
      },
      "execution_count": null,
      "outputs": [
        {
          "output_type": "stream",
          "name": "stdout",
          "text": [
            "Added student David with score 88.\n",
            "Updated Alice's score to 90.\n",
            "Updated student scores: {'Alice': 90, 'Bob': 92, 'Charlie': 78, 'David': 88}\n"
          ]
        }
      ]
    },
    {
      "cell_type": "markdown",
      "source": [
        "78. Dictionary Keys and Values: Write a Python program that takes a dictionary as input and prints all the keys and values in separate lines."
      ],
      "metadata": {
        "id": "sju6ZJMYeQGT"
      }
    },
    {
      "cell_type": "code",
      "source": [
        "dict = {\n",
        "    'Alice': 85,\n",
        "    'Bob': 92,\n",
        "    'Charlie': 78,\n",
        "    'David': 88\n",
        "}\n",
        "print(dict.keys())\n",
        "print(dict.values())"
      ],
      "metadata": {
        "colab": {
          "base_uri": "https://localhost:8080/"
        },
        "id": "hnWgu1nEeTnr",
        "outputId": "88de154a-a89d-44fa-c8b4-5d192950e735"
      },
      "execution_count": null,
      "outputs": [
        {
          "output_type": "stream",
          "name": "stdout",
          "text": [
            "dict_keys(['Alice', 'Bob', 'Charlie', 'David'])\n",
            "dict_values([85, 92, 78, 88])\n"
          ]
        }
      ]
    },
    {
      "cell_type": "markdown",
      "source": [
        "79. Dictionary Length: Write a Python program to calculate and print the number of key-value pairs in a given dictionary."
      ],
      "metadata": {
        "id": "Jb_g4e_EfWsc"
      }
    },
    {
      "cell_type": "code",
      "source": [
        "sample_dict = {\n",
        "    'Alice': 85,\n",
        "    'Bob': 92,\n",
        "    'Charlie': 78,\n",
        "    'David': 88\n",
        "}\n",
        "\n",
        "num_pairs = len(sample_dict)\n",
        "print(\"Number of key-value pairs in the dictionary:\", num_pairs)"
      ],
      "metadata": {
        "colab": {
          "base_uri": "https://localhost:8080/"
        },
        "id": "UVvirXqlfayj",
        "outputId": "0b949f4b-c86c-45d1-f3df-731ba4597e38"
      },
      "execution_count": null,
      "outputs": [
        {
          "output_type": "stream",
          "name": "stdout",
          "text": [
            "Number of key-value pairs in the dictionary: 4\n"
          ]
        }
      ]
    },
    {
      "cell_type": "markdown",
      "source": [
        "80. Dictionary Value Search: Given a dictionary of items and their prices, write a Python program to search for an item based on its price and print the item’s name."
      ],
      "metadata": {
        "id": "oNy6Eeexgh93"
      }
    },
    {
      "cell_type": "code",
      "source": [
        "item_prices = {\n",
        "    'Apple': 1.2,\n",
        "    'Banana': 0.5,\n",
        "    'Cherry': 3.0,\n",
        "    'Date': 2.5,\n",
        "    'Elderberry': 1.8\n",
        "}\n",
        "\n",
        "search_price = float(input(\"Enter the price to search for: \"))\n",
        "\n",
        "item_name = None\n",
        "for item, item_price in item_prices.items():\n",
        "    if item_price == search_price:\n",
        "        item_name = item\n",
        "        break\n",
        "\n",
        "if item_name:\n",
        "    print(f\"The item with price {search_price} is {item_name}.\")\n",
        "else:\n",
        "    print(f\"No item found with price {search_price}.\")"
      ],
      "metadata": {
        "colab": {
          "base_uri": "https://localhost:8080/"
        },
        "id": "OOjNfFHegoQ2",
        "outputId": "4d527561-4a75-4d60-ee73-c037cdf7c71e"
      },
      "execution_count": null,
      "outputs": [
        {
          "output_type": "stream",
          "name": "stdout",
          "text": [
            "Enter the price to search for: 1.8\n",
            "The item with price 1.8 is Elderberry.\n"
          ]
        }
      ]
    },
    {
      "cell_type": "markdown",
      "source": [
        "81. Dictionary Merging: Given two dictionaries, write a Python program to merge them into a single dictionary and print the result."
      ],
      "metadata": {
        "id": "AwDxyYWskV32"
      }
    },
    {
      "cell_type": "code",
      "source": [
        "dict1 = {\n",
        "    'Alice': 85,\n",
        "    'Bob': 92,\n",
        "    'Charlie': 78\n",
        "}\n",
        "\n",
        "dict2 = {\n",
        "    'David': 88,\n",
        "    'Eve': 95,\n",
        "    'Frank': 80\n",
        "}\n",
        "\n",
        "merged_dict = {**dict1, **dict2}\n",
        "\n",
        "print(\"Merged Dictionary:\", merged_dict)"
      ],
      "metadata": {
        "colab": {
          "base_uri": "https://localhost:8080/"
        },
        "id": "OK9dK9IykdAG",
        "outputId": "fcc739ff-1b0d-4b40-a92e-b3d052e946b3"
      },
      "execution_count": null,
      "outputs": [
        {
          "output_type": "stream",
          "name": "stdout",
          "text": [
            "Merged Dictionary: {'Alice': 85, 'Bob': 92, 'Charlie': 78, 'David': 88, 'Eve': 95, 'Frank': 80}\n"
          ]
        }
      ]
    },
    {
      "cell_type": "markdown",
      "source": [
        "82. Dictionary Key Removal: Given a dictionary of items and their quantities, write a Python program to remove a specific item from the dictionary based on user input."
      ],
      "metadata": {
        "id": "xaZwngBonJAl"
      }
    },
    {
      "cell_type": "code",
      "source": [
        "item_quantities = {\n",
        "    'Apple': 10,\n",
        "    'Banana': 5,\n",
        "    'Cherry': 20,\n",
        "    'Date': 15,\n",
        "    'Elderberry': 8\n",
        "}\n",
        "\n",
        "item_to_remove = input(\"Enter the item to remove: \")\n",
        "\n",
        "\n",
        "if item_to_remove in item_quantities:\n",
        "    del item_quantities[item_to_remove]\n",
        "    print(f\"Removed item: {item_to_remove}\")\n",
        "else:\n",
        "    print(f\"Item '{item_to_remove}' not found in the dictionary.\")\n",
        "\n",
        "\n",
        "print(\"Updated Dictionary:\", item_quantities)"
      ],
      "metadata": {
        "colab": {
          "base_uri": "https://localhost:8080/"
        },
        "id": "xlCLOIP7nuRg",
        "outputId": "a05b75e1-8ef2-4d66-d77e-8e4507a41af0"
      },
      "execution_count": null,
      "outputs": [
        {
          "output_type": "stream",
          "name": "stdout",
          "text": [
            "Enter the item to remove: Apple\n",
            "Removed item: Apple\n",
            "Updated Dictionary: {'Banana': 5, 'Cherry': 20, 'Date': 15, 'Elderberry': 8}\n"
          ]
        }
      ]
    },
    {
      "cell_type": "markdown",
      "source": [
        "83. Dictionary Sorting: Given a dictionary with names as keys and corresponding ages as values, write a Python program to sort the dictionary based on age in ascending order."
      ],
      "metadata": {
        "id": "89RZkaOLoOOl"
      }
    },
    {
      "cell_type": "code",
      "source": [
        "def sort_dict_by_age(input_dict):\n",
        "\n",
        "    sorted_dict = dict(sorted(input_dict.items(), key=lambda item: item[1]))\n",
        "    return sorted_dict\n",
        "\n",
        "\n",
        "ages_dict = {\n",
        "    \"Alice\": 25,\n",
        "    \"Bob\": 30,\n",
        "    \"Charlie\": 20,\n",
        "    \"David\": 35\n",
        "}\n",
        "sorted_ages_dict = sort_dict_by_age(ages_dict)\n",
        "print(\"Sorted dictionary based on age in ascending order:\")\n",
        "for name, age in sorted_ages_dict.items():\n",
        "    print(f\"{name}: {age} years old\")\n"
      ],
      "metadata": {
        "colab": {
          "base_uri": "https://localhost:8080/"
        },
        "id": "-iUZgJsPobqX",
        "outputId": "51e5fcfe-7591-4838-f751-0037d7c9de33"
      },
      "execution_count": 22,
      "outputs": [
        {
          "output_type": "stream",
          "name": "stdout",
          "text": [
            "Sorted dictionary based on age in ascending order:\n",
            "Charlie: 20 years old\n",
            "Alice: 25 years old\n",
            "Bob: 30 years old\n",
            "David: 35 years old\n"
          ]
        }
      ]
    },
    {
      "cell_type": "markdown",
      "source": [
        "84. Dictionary Frequency Count: Write a Python program that takes a string as input and creates a dictionary containing each character as a key and its frequency as the value."
      ],
      "metadata": {
        "id": "dE-qLU7xxG2t"
      }
    },
    {
      "cell_type": "code",
      "source": [
        "input_string = input(\"Enter a string: \")\n",
        "\n",
        "char_freq = {}\n",
        "\n",
        "for char in input_string:\n",
        "    char_freq[char] = char_freq.get(char, 0) + 1\n",
        "\n",
        "print(\"Character frequencies:\", char_freq)"
      ],
      "metadata": {
        "colab": {
          "base_uri": "https://localhost:8080/"
        },
        "id": "MVcScJp0xKeu",
        "outputId": "7149df6b-c07d-4757-f1f9-8cdb2a1aed2b"
      },
      "execution_count": null,
      "outputs": [
        {
          "output_type": "stream",
          "name": "stdout",
          "text": [
            "Enter a string: hello\n",
            "Character frequencies: {'h': 1, 'e': 1, 'l': 2, 'o': 1}\n"
          ]
        }
      ]
    },
    {
      "cell_type": "markdown",
      "source": [
        "85. Dictionary Comprehension: Given a list of integers, write a Python program to create a dictionary where the keys are the elements from the list, and the values are their squares."
      ],
      "metadata": {
        "id": "77QimfcE09ND"
      }
    },
    {
      "cell_type": "code",
      "source": [
        "input_list = [1, 2, 3, 4, 5]\n",
        "\n",
        "squared_dict = {num: num ** 2 for num in input_list}\n",
        "\n",
        "print(\"Dictionary with elements as keys and their squares as values:\")\n",
        "print(squared_dict)"
      ],
      "metadata": {
        "colab": {
          "base_uri": "https://localhost:8080/"
        },
        "id": "A6lY_DBo1AmK",
        "outputId": "2a5137a2-4897-4e1f-d68c-395a1f0516d2"
      },
      "execution_count": null,
      "outputs": [
        {
          "output_type": "stream",
          "name": "stdout",
          "text": [
            "Dictionary with elements as keys and their squares as values:\n",
            "{1: 1, 2: 4, 3: 9, 4: 16, 5: 25}\n"
          ]
        }
      ]
    },
    {
      "cell_type": "markdown",
      "source": [
        "86. Dictionary Key Check: Write a Python program that takes a key as input and checks if it exists in a given dictionary. Print “Key Found” if the key is present and “Key Not Found” otherwise."
      ],
      "metadata": {
        "id": "VSDULqiM4Tq4"
      }
    },
    {
      "cell_type": "code",
      "source": [
        "sample_dict = {\n",
        "    'name': 'sharika',\n",
        "    'age': 27,\n",
        "    'city': 'Dhaka'\n",
        "}\n",
        "\n",
        "key = input(\"Enter the key to check: \")\n",
        "\n",
        "\n",
        "if key in sample_dict:\n",
        "    print(\"Key Found\")\n",
        "else:\n",
        "    print(\"Key Not Found\")"
      ],
      "metadata": {
        "id": "kGRJe3m14Zxo",
        "colab": {
          "base_uri": "https://localhost:8080/"
        },
        "outputId": "d872723b-b7e4-41d9-8156-7c2cc62e6f1b"
      },
      "execution_count": null,
      "outputs": [
        {
          "output_type": "stream",
          "name": "stdout",
          "text": [
            "Enter the key to check: name\n",
            "Key Found\n"
          ]
        }
      ]
    },
    {
      "cell_type": "markdown",
      "source": [
        "87. Access Nested Dictionary: Given a nested dictionary containing student details, write a Python program to access and print specific information such as a student’s name, age, and address."
      ],
      "metadata": {
        "id": "h9F68eu33Nnr"
      }
    },
    {
      "cell_type": "code",
      "source": [
        "market = {\"fruits\": {\"apple\": 10, \"orange\": 40, \"strawberry\": 30, \"grapes\": 200},\n",
        "          \"vegetables\": {\"carrot\": 50, \"beans\": 100, \"tomato\": 70}}\n",
        "\n",
        "print(\"Orange Price:\",market[\"fruits\"][\"orange\"])\n",
        "print(\"Grapes Price:\",market[\"fruits\"][\"grapes\"])\n",
        "print(\"Tomato Price:\",market[\"vegetables\"][\"tomato\"])"
      ],
      "metadata": {
        "colab": {
          "base_uri": "https://localhost:8080/"
        },
        "id": "11Wq52403SBj",
        "outputId": "b9e3844b-1b31-4108-c154-0ba3e6b857db"
      },
      "execution_count": null,
      "outputs": [
        {
          "output_type": "stream",
          "name": "stdout",
          "text": [
            "Orange Price: 40\n",
            "Grapes Price: 200\n",
            "Tomato Price: 70\n"
          ]
        }
      ]
    },
    {
      "cell_type": "markdown",
      "source": [
        "88. Nested Dictionary Length: Write a Python program to calculate and print the total number of key-value pairs in a nested dictionary."
      ],
      "metadata": {
        "id": "1QuNipL15lHI"
      }
    },
    {
      "cell_type": "code",
      "source": [
        "def count_pairs(d):\n",
        "    count = 0\n",
        "    for key, value in d.items():\n",
        "        count += 1\n",
        "        if isinstance(value, dict):\n",
        "            count += count_pairs(value)\n",
        "    return count\n",
        "\n",
        "# Nested dictionary\n",
        "nested_dict = {\n",
        "    'student1': {\n",
        "        'name': 'Alice',\n",
        "        'age': 21,\n",
        "        'address': {\n",
        "            'street': '123 Maple St',\n",
        "            'city': 'New York',\n",
        "            'zipcode': '10001'\n",
        "        }\n",
        "    },\n",
        "    'student2': {\n",
        "        'name': 'Bob',\n",
        "        'age': 22,\n",
        "        'address': {\n",
        "            'street': '456 Oak St',\n",
        "            'city': 'Los Angeles',\n",
        "            'zipcode': '90001'\n",
        "        }\n",
        "    }\n",
        "}\n",
        "\n",
        "\n",
        "total_pairs = count_pairs(nested_dict)\n",
        "print(f\"Total number of key-value pairs: {total_pairs}\")\n"
      ],
      "metadata": {
        "colab": {
          "base_uri": "https://localhost:8080/"
        },
        "id": "nIjrh7M-5u_A",
        "outputId": "c9f27eeb-4c38-43f7-f69a-cfada4909c11"
      },
      "execution_count": null,
      "outputs": [
        {
          "output_type": "stream",
          "name": "stdout",
          "text": [
            "Total number of key-value pairs: 14\n"
          ]
        }
      ]
    },
    {
      "cell_type": "markdown",
      "source": [
        "89. Nested Dictionary Update: Given a nested dictionary of employee details, write a Python program to update an employee’s salary based on their employee ID."
      ],
      "metadata": {
        "id": "mdypYPhu8GOL"
      }
    },
    {
      "cell_type": "code",
      "source": [
        "def update_salary(employee_dict, emp_id, new_salary):\n",
        "    if emp_id in employee_dict:\n",
        "        employee_dict[emp_id]['salary'] = new_salary\n",
        "        print(f\"Salary for {emp_id} has been updated to {new_salary}.\")\n",
        "    else:\n",
        "        print(f\"Employee ID {emp_id} not found.\")\n",
        "\n",
        "employees = {\n",
        "    'emp1': {\n",
        "        'name': 'John Doe',\n",
        "        'age': 30,\n",
        "        'department': 'HR',\n",
        "        'salary': 50000\n",
        "    },\n",
        "    'emp2': {\n",
        "        'name': 'Jane Smith',\n",
        "        'age': 25,\n",
        "        'department': 'IT',\n",
        "        'salary': 60000\n",
        "    },\n",
        "    'emp3': {\n",
        "        'name': 'Mike Johnson',\n",
        "        'age': 35,\n",
        "        'department': 'Finance',\n",
        "        'salary': 70000\n",
        "    }\n",
        "}\n",
        "\n",
        "\n",
        "emp_id_to_update = 'emp2'\n",
        "new_salary_amount = 65000\n",
        "\n",
        "update_salary(employees, emp_id_to_update, new_salary_amount)\n",
        "\n",
        "\n",
        "print(employees)"
      ],
      "metadata": {
        "colab": {
          "base_uri": "https://localhost:8080/"
        },
        "id": "kU4RY4CL8Ims",
        "outputId": "5c68b696-c448-4529-8f1c-4962deb64dfa"
      },
      "execution_count": null,
      "outputs": [
        {
          "output_type": "stream",
          "name": "stdout",
          "text": [
            "Salary for emp2 has been updated to 65000.\n",
            "{'emp1': {'name': 'John Doe', 'age': 30, 'department': 'HR', 'salary': 50000}, 'emp2': {'name': 'Jane Smith', 'age': 25, 'department': 'IT', 'salary': 65000}, 'emp3': {'name': 'Mike Johnson', 'age': 35, 'department': 'Finance', 'salary': 70000}}\n"
          ]
        }
      ]
    },
    {
      "cell_type": "markdown",
      "source": [
        "90. Nested Dictionary Sorting: Given a nested dictionary containing product details (product name, price, and quantity), write a Python program to sort the products based on their prices in ascending order."
      ],
      "metadata": {
        "id": "f-1AA4q--tYD"
      }
    },
    {
      "cell_type": "code",
      "source": [
        "products = {\n",
        "    'Product1': {'name': 'Apple', 'price': 3, 'quantity': 50},\n",
        "    'Product2': {'name': 'Banana', 'price': 1, 'quantity': 100},\n",
        "    'Product3': {'name': 'Cherry', 'price': 2, 'quantity': 75},\n",
        "}\n",
        "\n",
        "sorted_products = dict(sorted(products.items(), key=lambda item: item[1]['price']))\n",
        "\n",
        "print(sorted_products)\n"
      ],
      "metadata": {
        "id": "P2gPm8yk-wva",
        "colab": {
          "base_uri": "https://localhost:8080/"
        },
        "outputId": "3c225fa8-5b7a-4585-d550-038b963f8d86"
      },
      "execution_count": null,
      "outputs": [
        {
          "output_type": "stream",
          "name": "stdout",
          "text": [
            "{'Product2': {'name': 'Banana', 'price': 1, 'quantity': 100}, 'Product3': {'name': 'Cherry', 'price': 2, 'quantity': 75}, 'Product1': {'name': 'Apple', 'price': 3, 'quantity': 50}}\n"
          ]
        }
      ]
    },
    {
      "cell_type": "markdown",
      "source": [
        "91. Nested Dictionary Key Search: Write a Python program that takes a key as input and searches for it in a nested dictionary. If found, print the corresponding value, otherwise, print “Key Not Found.”"
      ],
      "metadata": {
        "id": "ZdNcoi3Ij_oO"
      }
    },
    {
      "cell_type": "code",
      "source": [
        "def find_key_in_nested_dict(nested_dict, search_key):\n",
        "    for key, value in nested_dict.items():\n",
        "        if key == search_key:\n",
        "            return value\n",
        "        elif isinstance(value, dict):\n",
        "            result = find_key_in_nested_dict(value, search_key)\n",
        "            if result is not None:\n",
        "                return result\n",
        "    return None\n",
        "\n",
        "nested_dict = {\n",
        "    'product1': {'name': 'Apple', 'price': 3, 'quantity': 50},\n",
        "    'product2': {'name': 'Banana', 'price': 1, 'quantity': 100},\n",
        "    'product3': {'name': 'Cherry', 'price': 2, 'quantity': 75},\n",
        "}\n",
        "\n",
        "\n",
        "search_key = input(\"Enter the key to search: \")\n",
        "\n",
        "result = find_key_in_nested_dict(nested_dict, search_key)\n",
        "\n",
        "\n",
        "if result is not None:\n",
        "    print(\"Key found:\", result)\n",
        "else:\n",
        "    print(\"Key Not Found\")"
      ],
      "metadata": {
        "colab": {
          "base_uri": "https://localhost:8080/"
        },
        "id": "IoKnHKShkDnd",
        "outputId": "a7dea6f9-de34-41a7-8012-6e261c183a34"
      },
      "execution_count": null,
      "outputs": [
        {
          "output_type": "stream",
          "name": "stdout",
          "text": [
            "Enter the key to search: name\n",
            "Key found: Apple\n"
          ]
        }
      ]
    },
    {
      "cell_type": "markdown",
      "source": [
        "92. Prime Number Checker: Write a Python program that takes a number as input and determines if it is a prime number or not. Use a `for` loop to check for factors. If a factor is found, `break` out of the loop."
      ],
      "metadata": {
        "id": "-Of-af1rluV7"
      }
    },
    {
      "cell_type": "code",
      "source": [
        "num = int(input(\"Enter a number: \"))\n",
        "\n",
        "if num > 1:\n",
        "    for i in range(2, int(num ** 0.5) + 1):\n",
        "        if num % i == 0:\n",
        "            print(num,\"is not a prime number\")\n",
        "            break\n",
        "    else:\n",
        "        print(num, \"is a prime number\")\n",
        "else:\n",
        "    print(num,\" is not a prime number\")\n"
      ],
      "metadata": {
        "colab": {
          "base_uri": "https://localhost:8080/"
        },
        "id": "7CxNIHNAlyCZ",
        "outputId": "56943d69-3293-4f0d-c740-faa206ffde61"
      },
      "execution_count": null,
      "outputs": [
        {
          "output_type": "stream",
          "name": "stdout",
          "text": [
            "Enter a number: 7\n",
            "7 is a prime number\n"
          ]
        }
      ]
    },
    {
      "cell_type": "markdown",
      "source": [
        "93. Even Number Printer: Write a Python program to print all even numbers from 1 to 20. Use a `for` loop and `continue` to skip odd numbers."
      ],
      "metadata": {
        "id": "1osYzuT1m4Xn"
      }
    },
    {
      "cell_type": "code",
      "source": [
        "for num in range(1, 21):\n",
        "    if num % 2 != 0:\n",
        "        continue\n",
        "    print(num)"
      ],
      "metadata": {
        "colab": {
          "base_uri": "https://localhost:8080/"
        },
        "id": "yvyuG9uwm8Ae",
        "outputId": "53bc44f6-6355-4c6c-b975-cb66860c0b1b"
      },
      "execution_count": null,
      "outputs": [
        {
          "output_type": "stream",
          "name": "stdout",
          "text": [
            "2\n",
            "4\n",
            "6\n",
            "8\n",
            "10\n",
            "12\n",
            "14\n",
            "16\n",
            "18\n",
            "20\n"
          ]
        }
      ]
    },
    {
      "cell_type": "markdown",
      "source": [
        "94. Password Validator: Write a Python program that takes a password as input and checks if it meets the following criteria: at least 8 characters long, contains both uppercase and lowercase letters, and has at least one digit. If the password is valid, print “Password accepted.” If not, use `continue` to prompt the user to enter a valid password."
      ],
      "metadata": {
        "id": "LgR0tkIsnaH7"
      }
    },
    {
      "cell_type": "code",
      "source": [
        "while True:\n",
        "    password = input(\"Enter a password: \")\n",
        "\n",
        "    if (len(password) < 8 or\n",
        "        not any(char.isdigit() for char in password) or\n",
        "        not any(char.islower() for char in password) or\n",
        "        not any(char.isupper() for char in password)):\n",
        "        print(\"Password not accepted. Try again.\")\n",
        "        continue\n",
        "\n",
        "    print(\"Password accepted.\")\n",
        "    break\n"
      ],
      "metadata": {
        "colab": {
          "base_uri": "https://localhost:8080/"
        },
        "id": "g-V_j8gSneGq",
        "outputId": "05f25ffa-3f6c-43bd-8f1c-377d0fbae40b"
      },
      "execution_count": null,
      "outputs": [
        {
          "output_type": "stream",
          "name": "stdout",
          "text": [
            "Enter a password: Ss01627745646*\n",
            "Password accepted.\n"
          ]
        }
      ]
    },
    {
      "cell_type": "markdown",
      "source": [
        "95. Divisible by 3 or 5: Write a Python program to print all numbers from 1 to 50 that are divisible by either 3 or 5. Use a `for` loop and `continue` to skip numbers that are not divisible by either 3 or 5."
      ],
      "metadata": {
        "id": "xmUmGb8hn0IK"
      }
    },
    {
      "cell_type": "code",
      "source": [
        "for num in range(1, 51):\n",
        "    if num % 3 != 0 and num % 5 != 0:\n",
        "        continue\n",
        "    print(num)\n"
      ],
      "metadata": {
        "colab": {
          "base_uri": "https://localhost:8080/"
        },
        "id": "uz2czSphpIhc",
        "outputId": "c465d7b4-0b7d-4fdc-f4f2-8699368acca7"
      },
      "execution_count": null,
      "outputs": [
        {
          "output_type": "stream",
          "name": "stdout",
          "text": [
            "3\n",
            "5\n",
            "6\n",
            "9\n",
            "10\n",
            "12\n",
            "15\n",
            "18\n",
            "20\n",
            "21\n",
            "24\n",
            "25\n",
            "27\n",
            "30\n",
            "33\n",
            "35\n",
            "36\n",
            "39\n",
            "40\n",
            "42\n",
            "45\n",
            "48\n",
            "50\n"
          ]
        }
      ]
    },
    {
      "cell_type": "markdown",
      "source": [
        "96. Positive Number Sum: Write a Python program that takes positive numbers as input until a negative number is entered. Then, calculate and print the sum of all positive numbers entered. Use a `while` loop and `break` to exit the loop when a negative number is encountered."
      ],
      "metadata": {
        "id": "YvP7ER5hpaXS"
      }
    },
    {
      "cell_type": "code",
      "source": [
        "total_sum = 0\n",
        "\n",
        "while True:\n",
        "    num = float(input(\"Enter a positive number (or a negative number to stop): \"))\n",
        "\n",
        "    if num < 0:\n",
        "        break\n",
        "\n",
        "    total_sum += num\n",
        "\n",
        "print(\"Sum of all positive numbers entered:\", total_sum)\n"
      ],
      "metadata": {
        "colab": {
          "base_uri": "https://localhost:8080/"
        },
        "id": "gfx99r4Ipeuk",
        "outputId": "3e39ce61-ed5e-4685-b927-661394e3cbc8"
      },
      "execution_count": null,
      "outputs": [
        {
          "output_type": "stream",
          "name": "stdout",
          "text": [
            "Enter a positive number (or a negative number to stop): 9\n",
            "Enter a positive number (or a negative number to stop): -8\n",
            "Sum of all positive numbers entered: 9.0\n"
          ]
        }
      ]
    },
    {
      "cell_type": "markdown",
      "source": [
        "97. Word Palindrome Checker: Write a Python program that takes a word as input and checks if it is a palindrome (reads the same forwards and backward). Use `continue` to skip checking the word if its length is less than 3 characters."
      ],
      "metadata": {
        "id": "xTdv8eeGrPkx"
      }
    },
    {
      "cell_type": "code",
      "source": [
        "while True:\n",
        "    word = input(\"Enter a word (or 'quit' to stop): \").strip()\n",
        "\n",
        "\n",
        "    if word.lower() == 'quit':\n",
        "        break\n",
        "\n",
        "\n",
        "    if len(word) < 3:\n",
        "        print(\"Word too short, try again.\")\n",
        "        continue\n",
        "\n",
        "\n",
        "    if word == word[::-1]:\n",
        "        print(word,\" is a palindrome.\")\n",
        "    else:\n",
        "        print(word, \" is not a palindrome.\")\n"
      ],
      "metadata": {
        "colab": {
          "base_uri": "https://localhost:8080/"
        },
        "id": "NW1mRShZrVW0",
        "outputId": "07f0ac79-f630-4e27-e00c-86d7be31abb6"
      },
      "execution_count": null,
      "outputs": [
        {
          "name": "stdout",
          "output_type": "stream",
          "text": [
            "Enter a word (or 'quit' to stop): madam\n",
            "madam  is a palindrome.\n",
            "Enter a word (or 'quit' to stop): nafi\n",
            "nafi  is not a palindrome.\n",
            "Enter a word (or 'quit' to stop): quit\n"
          ]
        }
      ]
    },
    {
      "cell_type": "markdown",
      "source": [
        "98. Odd Number Finder: Write a Python program to find the first odd number from a list of integers. Use a `for` loop and `break` to stop the loop when the first odd number is found."
      ],
      "metadata": {
        "id": "60nCMby8scKk"
      }
    },
    {
      "cell_type": "code",
      "source": [
        "numbers = [2, 4, 6, 8, 9, 10, 12]\n",
        "\n",
        "for num in numbers:\n",
        "    if num % 2 != 0:\n",
        "        print(\"First odd number found:\", num)\n",
        "        break\n"
      ],
      "metadata": {
        "colab": {
          "base_uri": "https://localhost:8080/"
        },
        "id": "6m_XyLKksg8S",
        "outputId": "54e809c2-1978-42ad-eeb2-2bbd2ce7fc7f"
      },
      "execution_count": null,
      "outputs": [
        {
          "output_type": "stream",
          "name": "stdout",
          "text": [
            "First odd number found: 9\n"
          ]
        }
      ]
    },
    {
      "cell_type": "markdown",
      "source": [
        "99. Number Guessing Game: Write a Python program that generates a random number between 1 and 100 and lets the user guess the number. Use a `while` loop, `break` when the correct number is guessed, and `continue` to keep prompting the user until they guess correctly."
      ],
      "metadata": {
        "id": "Excg5l-Ps0FL"
      }
    },
    {
      "cell_type": "code",
      "source": [
        "import random\n",
        "\n",
        "secret_number = random.randint(1, 100)\n",
        "\n",
        "while True:\n",
        "    guess = int(input(\"Guess the number between 1 and 100: \"))\n",
        "\n",
        "    if guess == secret_number:\n",
        "        print(\"Congratulations! You guessed the correct number.\")\n",
        "        break\n",
        "    elif guess < secret_number:\n",
        "        print(\"Try a higher number.\")\n",
        "    else:\n",
        "        print(\"Try a lower number.\")\n"
      ],
      "metadata": {
        "colab": {
          "base_uri": "https://localhost:8080/",
          "height": 564
        },
        "id": "oq3wsbrqs_jd",
        "outputId": "56869279-5ced-4b41-f251-cff1e92a6ac4"
      },
      "execution_count": null,
      "outputs": [
        {
          "output_type": "stream",
          "name": "stdout",
          "text": [
            "Guess the number between 1 and 100: 7\n",
            "Try a higher number.\n",
            "Guess the number between 1 and 100: 9\n",
            "Try a higher number.\n",
            "Guess the number between 1 and 100: 90\n",
            "Try a lower number.\n",
            "Guess the number between 1 and 100: 85\n",
            "Try a lower number.\n",
            "Guess the number between 1 and 100: 33\n",
            "Try a higher number.\n",
            "Guess the number between 1 and 100: 0\n",
            "Try a higher number.\n"
          ]
        },
        {
          "output_type": "error",
          "ename": "KeyboardInterrupt",
          "evalue": "Interrupted by user",
          "traceback": [
            "\u001b[0;31m---------------------------------------------------------------------------\u001b[0m",
            "\u001b[0;31mKeyboardInterrupt\u001b[0m                         Traceback (most recent call last)",
            "\u001b[0;32m<ipython-input-13-9268039276a3>\u001b[0m in \u001b[0;36m<cell line: 5>\u001b[0;34m()\u001b[0m\n\u001b[1;32m      4\u001b[0m \u001b[0;34m\u001b[0m\u001b[0m\n\u001b[1;32m      5\u001b[0m \u001b[0;32mwhile\u001b[0m \u001b[0;32mTrue\u001b[0m\u001b[0;34m:\u001b[0m\u001b[0;34m\u001b[0m\u001b[0;34m\u001b[0m\u001b[0m\n\u001b[0;32m----> 6\u001b[0;31m     \u001b[0mguess\u001b[0m \u001b[0;34m=\u001b[0m \u001b[0mint\u001b[0m\u001b[0;34m(\u001b[0m\u001b[0minput\u001b[0m\u001b[0;34m(\u001b[0m\u001b[0;34m\"Guess the number between 1 and 100: \"\u001b[0m\u001b[0;34m)\u001b[0m\u001b[0;34m)\u001b[0m\u001b[0;34m\u001b[0m\u001b[0;34m\u001b[0m\u001b[0m\n\u001b[0m\u001b[1;32m      7\u001b[0m \u001b[0;34m\u001b[0m\u001b[0m\n\u001b[1;32m      8\u001b[0m     \u001b[0;32mif\u001b[0m \u001b[0mguess\u001b[0m \u001b[0;34m==\u001b[0m \u001b[0msecret_number\u001b[0m\u001b[0;34m:\u001b[0m\u001b[0;34m\u001b[0m\u001b[0;34m\u001b[0m\u001b[0m\n",
            "\u001b[0;32m/usr/local/lib/python3.10/dist-packages/ipykernel/kernelbase.py\u001b[0m in \u001b[0;36mraw_input\u001b[0;34m(self, prompt)\u001b[0m\n\u001b[1;32m    849\u001b[0m                 \u001b[0;34m\"raw_input was called, but this frontend does not support input requests.\"\u001b[0m\u001b[0;34m\u001b[0m\u001b[0;34m\u001b[0m\u001b[0m\n\u001b[1;32m    850\u001b[0m             )\n\u001b[0;32m--> 851\u001b[0;31m         return self._input_request(str(prompt),\n\u001b[0m\u001b[1;32m    852\u001b[0m             \u001b[0mself\u001b[0m\u001b[0;34m.\u001b[0m\u001b[0m_parent_ident\u001b[0m\u001b[0;34m,\u001b[0m\u001b[0;34m\u001b[0m\u001b[0;34m\u001b[0m\u001b[0m\n\u001b[1;32m    853\u001b[0m             \u001b[0mself\u001b[0m\u001b[0;34m.\u001b[0m\u001b[0m_parent_header\u001b[0m\u001b[0;34m,\u001b[0m\u001b[0;34m\u001b[0m\u001b[0;34m\u001b[0m\u001b[0m\n",
            "\u001b[0;32m/usr/local/lib/python3.10/dist-packages/ipykernel/kernelbase.py\u001b[0m in \u001b[0;36m_input_request\u001b[0;34m(self, prompt, ident, parent, password)\u001b[0m\n\u001b[1;32m    893\u001b[0m             \u001b[0;32mexcept\u001b[0m \u001b[0mKeyboardInterrupt\u001b[0m\u001b[0;34m:\u001b[0m\u001b[0;34m\u001b[0m\u001b[0;34m\u001b[0m\u001b[0m\n\u001b[1;32m    894\u001b[0m                 \u001b[0;31m# re-raise KeyboardInterrupt, to truncate traceback\u001b[0m\u001b[0;34m\u001b[0m\u001b[0;34m\u001b[0m\u001b[0m\n\u001b[0;32m--> 895\u001b[0;31m                 \u001b[0;32mraise\u001b[0m \u001b[0mKeyboardInterrupt\u001b[0m\u001b[0;34m(\u001b[0m\u001b[0;34m\"Interrupted by user\"\u001b[0m\u001b[0;34m)\u001b[0m \u001b[0;32mfrom\u001b[0m \u001b[0;32mNone\u001b[0m\u001b[0;34m\u001b[0m\u001b[0;34m\u001b[0m\u001b[0m\n\u001b[0m\u001b[1;32m    896\u001b[0m             \u001b[0;32mexcept\u001b[0m \u001b[0mException\u001b[0m \u001b[0;32mas\u001b[0m \u001b[0me\u001b[0m\u001b[0;34m:\u001b[0m\u001b[0;34m\u001b[0m\u001b[0;34m\u001b[0m\u001b[0m\n\u001b[1;32m    897\u001b[0m                 \u001b[0mself\u001b[0m\u001b[0;34m.\u001b[0m\u001b[0mlog\u001b[0m\u001b[0;34m.\u001b[0m\u001b[0mwarning\u001b[0m\u001b[0;34m(\u001b[0m\u001b[0;34m\"Invalid Message:\"\u001b[0m\u001b[0;34m,\u001b[0m \u001b[0mexc_info\u001b[0m\u001b[0;34m=\u001b[0m\u001b[0;32mTrue\u001b[0m\u001b[0;34m)\u001b[0m\u001b[0;34m\u001b[0m\u001b[0;34m\u001b[0m\u001b[0m\n",
            "\u001b[0;31mKeyboardInterrupt\u001b[0m: Interrupted by user"
          ]
        }
      ]
    },
    {
      "cell_type": "markdown",
      "source": [
        "100. Vowel Counter: Write a Python program that takes a string as input and counts the number of vowels (a, e, i, o, u) in it. Use a `for` loop and `continue` to skip counting non-vowel characters."
      ],
      "metadata": {
        "id": "UoS476i9ttWK"
      }
    },
    {
      "cell_type": "code",
      "source": [
        "input_string = input(\"Enter a string: \")\n",
        "\n",
        "vowel_count = 0\n",
        "\n",
        "for char in input_string:\n",
        "    if char.lower() in 'aeiou':\n",
        "        vowel_count += 1\n",
        "        continue\n",
        "\n",
        "print(\"Number of vowels:\", vowel_count)\n"
      ],
      "metadata": {
        "id": "7cRJNatjtzIP"
      },
      "execution_count": null,
      "outputs": []
    },
    {
      "cell_type": "markdown",
      "source": [
        "101. Unique Characters: Write a Python program that takes a string as input and checks if it contains all unique characters (no character repeats). Use a `for` loop and `break` when a character repeats."
      ],
      "metadata": {
        "id": "C0fryqKwudGn"
      }
    },
    {
      "cell_type": "code",
      "source": [
        "input_string = input(\"Enter a string: \")\n",
        "\n",
        "has_unique_chars = True\n",
        "\n",
        "for char in input_string:\n",
        "\n",
        "    if input_string.count(char) > 1:\n",
        "        has_unique_chars = False\n",
        "        break\n",
        "\n",
        "\n",
        "if has_unique_chars:\n",
        "    print(\"The string contains all unique characters.\")\n",
        "else:\n",
        "    print(\"The string does not contain all unique characters.\")\n"
      ],
      "metadata": {
        "colab": {
          "base_uri": "https://localhost:8080/"
        },
        "id": "q6KxxA7xuj5v",
        "outputId": "3a949037-825a-4788-cc16-8ae2739b3793"
      },
      "execution_count": null,
      "outputs": [
        {
          "output_type": "stream",
          "name": "stdout",
          "text": [
            "Enter a string: baby\n",
            "The string does not contain all unique characters.\n"
          ]
        }
      ]
    },
    {
      "cell_type": "markdown",
      "source": [
        "102. Factorial Calculator: Write a Python function called `factorial` that takes an integer as input and returns its factorial. Test the function with different values."
      ],
      "metadata": {
        "id": "_v5iGJgAvDGF"
      }
    },
    {
      "cell_type": "code",
      "source": [
        "def factorial(n):\n",
        "    if n < 0:\n",
        "        return \"Factorial is not defined for negative numbers.\"\n",
        "    result = 1\n",
        "    for i in range(2, n + 1):\n",
        "        result *= i\n",
        "    return result\n",
        "\n",
        "\n",
        "print(factorial(5))\n",
        "print(factorial(0))\n",
        "print(factorial(-1))\n",
        "\n"
      ],
      "metadata": {
        "colab": {
          "base_uri": "https://localhost:8080/"
        },
        "id": "2YFx6WZBvLKZ",
        "outputId": "89b42945-7cbd-43ab-9755-403532fea261"
      },
      "execution_count": null,
      "outputs": [
        {
          "output_type": "stream",
          "name": "stdout",
          "text": [
            "120\n",
            "1\n",
            "Factorial is not defined for negative numbers.\n"
          ]
        }
      ]
    },
    {
      "cell_type": "markdown",
      "source": [
        "103. Palindrome Checker: Write a Python function called `is_palindrome` that takes a string as input and returns `True` if it is a palindrome and `False` otherwise. Test the function with different words."
      ],
      "metadata": {
        "id": "HFc3DxdIv47d"
      }
    },
    {
      "cell_type": "code",
      "source": [
        "def is_palindrome(s):\n",
        "    return s == s[::-1]\n",
        "\n",
        "\n",
        "print(is_palindrome(\"radar\"))  # Output: True\n",
        "print(is_palindrome(\"hello\"))  # Output: False\n",
        "print(is_palindrome(\"level\"))  # Output: True\n"
      ],
      "metadata": {
        "colab": {
          "base_uri": "https://localhost:8080/"
        },
        "id": "HqWqWTU2v61E",
        "outputId": "4d6b5fcf-e19f-4d89-8c65-ff2c5b43202f"
      },
      "execution_count": null,
      "outputs": [
        {
          "output_type": "stream",
          "name": "stdout",
          "text": [
            "Enter a string: nafi\n",
            "It's not a palindrome.\n"
          ]
        }
      ]
    },
    {
      "cell_type": "markdown",
      "source": [
        "104. Even or Odd Checker: Write a Python function called `even_or_odd` that takes an integer as input and returns “Even” if the number is even and “Odd” if the number is odd. Test the function with different numbers."
      ],
      "metadata": {
        "id": "WQ7Bv63IwSXC"
      }
    },
    {
      "cell_type": "code",
      "source": [
        "def even_or_odd(number):\n",
        "\n",
        "    if number % 2 == 0:\n",
        "        return \"Even\"\n",
        "    else:\n",
        "        return \"Odd\"\n",
        "\n",
        "\n",
        "try:\n",
        "    user_input = int(input(\"Enter an integer: \"))\n",
        "    result = even_or_odd(user_input)\n",
        "    print(f\"The number {user_input} is {result}.\")\n",
        "except ValueError:\n",
        "    print(\"Invalid input. Please enter an integer.\")\n",
        "\n"
      ],
      "metadata": {
        "colab": {
          "base_uri": "https://localhost:8080/"
        },
        "id": "y96b0b2uwTq9",
        "outputId": "1a7ccad8-6f13-4162-c82e-b1be281efa6c"
      },
      "execution_count": 23,
      "outputs": [
        {
          "output_type": "stream",
          "name": "stdout",
          "text": [
            "Enter an integer: 9\n",
            "The number 9 is Odd.\n"
          ]
        }
      ]
    },
    {
      "cell_type": "markdown",
      "source": [
        "105. List Sum Calculator: Write a Python function called `list_sum` that takes a list of integers as input and returns the sum of all elements in the list. Test the function with different lists."
      ],
      "metadata": {
        "id": "U-V2Vsltwodo"
      }
    },
    {
      "cell_type": "code",
      "source": [
        "def list_sum(input_list):\n",
        "\n",
        "    return sum(input_list)\n",
        "\n",
        "\n",
        "try:\n",
        "    user_input = input(\"Enter a list of integers separated by spaces: \")\n",
        "    input_list = [int(x) for x in user_input.split()]\n",
        "    result = list_sum(input_list)\n",
        "    print(f\"The sum of elements in the list {input_list} is {result}.\")\n",
        "except ValueError:\n",
        "    print(\"Invalid input. Please enter a list of integers separated by spaces.\")\n"
      ],
      "metadata": {
        "colab": {
          "base_uri": "https://localhost:8080/"
        },
        "id": "WoMoKz63w5VS",
        "outputId": "d95afbc9-aea9-4aba-8e81-8b0b3a778111"
      },
      "execution_count": 24,
      "outputs": [
        {
          "output_type": "stream",
          "name": "stdout",
          "text": [
            "Enter a list of integers separated by spaces: 8 7 6\n",
            "The sum of elements in the list [8, 7, 6] is 21.\n"
          ]
        }
      ]
    },
    {
      "cell_type": "markdown",
      "source": [
        "106. Greatest Common Divisor (GCD) Calculator: Write a Python function called `gcd` that takes two integers as input and returns their greatest common divisor. Test the function with different pairs of numbers."
      ],
      "metadata": {
        "id": "HV_ZlIofw-oq"
      }
    },
    {
      "cell_type": "code",
      "source": [
        "a=int(input('1st no \\n'))\n",
        "b=int(input('2nd no \\n'))\n",
        "\n",
        "def gcd(a,b):\n",
        "  if a>b:\n",
        "    smaller = b\n",
        "  else:\n",
        "    smaller = a\n",
        "  for i in range (1, smaller+1):\n",
        "    if((a%i==0) and (b%i==0)):\n",
        "      hcf = i\n",
        "  return hcf\n",
        "\n",
        "print(\"The gcd of the given two numbers is:\", gcd(a,b))\n"
      ],
      "metadata": {
        "colab": {
          "base_uri": "https://localhost:8080/"
        },
        "id": "IKlzvT5bxCGE",
        "outputId": "2a87048d-74bd-4866-cc4f-c8ac0cbd2200"
      },
      "execution_count": null,
      "outputs": [
        {
          "output_type": "stream",
          "name": "stdout",
          "text": [
            "1st no \n",
            "5\n",
            "2nd no \n",
            "25\n",
            "The gcd of the given two numbers is: 5\n"
          ]
        }
      ]
    },
    {
      "cell_type": "markdown",
      "source": [
        "107. Leap Year Checker: Write a Python function called `is_leap_year` that takes a year as input and returns `True` if it is a leap year and `False` otherwise. Test the function with different years."
      ],
      "metadata": {
        "id": "7w4_jCgRlD20"
      }
    },
    {
      "cell_type": "code",
      "source": [
        "def is_leap_year(year):\n",
        "  leap = False\n",
        "\n",
        "  if (year%4==0 and year !=100) or (year % 400 ==0):\n",
        "    leap = True\n",
        "  else:\n",
        "    leap = False\n",
        "\n",
        "  return leap\n",
        "\n",
        "year = int(input())\n",
        "print(is_leap_year(year))"
      ],
      "metadata": {
        "colab": {
          "base_uri": "https://localhost:8080/"
        },
        "id": "d9K0t5YdlJ6L",
        "outputId": "cf137724-c05b-4bd1-d8a2-b30ee47c282f"
      },
      "execution_count": null,
      "outputs": [
        {
          "output_type": "stream",
          "name": "stdout",
          "text": [
            "2024\n",
            "True\n"
          ]
        }
      ]
    },
    {
      "cell_type": "markdown",
      "source": [
        "108. Math Operations: Write a Python function called `math_operations` that takes three numbers and a string representing an operation (‘add’, ‘subtract’, ‘multiply’, or ‘divide’). The function should return the result of the specified operation on the three numbers. Implement the math operations as nested functions."
      ],
      "metadata": {
        "id": "_Ga-2RrHhnoI"
      }
    },
    {
      "cell_type": "code",
      "source": [
        "def math_operations(a, b, c, operation):\n",
        "    def add(x, y, z):\n",
        "        return x + y + z\n",
        "\n",
        "    def subtract(x, y, z):\n",
        "        return x - y - z\n",
        "\n",
        "    def multiply(x, y, z):\n",
        "        return x * y * z\n",
        "\n",
        "    def divide(x, y, z):\n",
        "        if y == 0 or z == 0:\n",
        "            return \"Error: Division by zero\"\n",
        "        return x / y / z\n",
        "\n",
        "    if operation == 'add':\n",
        "        return add(a, b, c)\n",
        "    elif operation == 'subtract':\n",
        "        return subtract(a, b, c)\n",
        "    elif operation == 'multiply':\n",
        "        return multiply(a, b, c)\n",
        "    elif operation == 'divide':\n",
        "        return divide(a, b, c)\n",
        "    else:\n",
        "        return \"Error: Invalid operation\"\n",
        "\n",
        "\n",
        "result = math_operations(6, 2, 3, 'add')\n",
        "print(result)\n",
        "\n",
        "result = math_operations(6, 2, 3, 'subtract')\n",
        "print(result)\n",
        "\n",
        "result = math_operations(6, 2, 3, 'multiply')\n",
        "print(result)\n",
        "\n",
        "result = math_operations(6, 2, 3, 'divide')\n",
        "print(result)\n"
      ],
      "metadata": {
        "colab": {
          "base_uri": "https://localhost:8080/"
        },
        "id": "XGkpGmieptMc",
        "outputId": "98c4bb91-0a97-48f4-9e43-98589165b61b"
      },
      "execution_count": null,
      "outputs": [
        {
          "output_type": "stream",
          "name": "stdout",
          "text": [
            "11\n",
            "1\n",
            "36\n",
            "1.0\n"
          ]
        }
      ]
    },
    {
      "cell_type": "markdown",
      "source": [
        "109. Greeting Generator: Write a Python function called `greeting_generator` that takes a name as input and returns a greeting message using nested functions. The greeting message should be customizable (e.g., “Hello, {name}! How are you today?”)."
      ],
      "metadata": {
        "id": "HLTqiThTsdNP"
      }
    },
    {
      "cell_type": "code",
      "source": [
        "def greeting_generator():\n",
        "    name = input(\"Enter your name: \")\n",
        "\n",
        "    def greeting_template_1(name):\n",
        "        return f\"Hello, {name}! How are you today?\"\n",
        "\n",
        "    def greeting_template_2(name):\n",
        "        return f\"Hi, {name}! Hope you're having a great day!\"\n",
        "\n",
        "    def greeting_template_3(name):\n",
        "        return f\"Hey, {name}! What's up?\"\n",
        "\n",
        "\n",
        "    def select_greeting():\n",
        "        print(\"Select a greeting template:\")\n",
        "        print(\"1. Formal\")\n",
        "        print(\"2. Friendly\")\n",
        "        print(\"3. Casual\")\n",
        "        choice = input(\"Enter the number of your choice: \")\n",
        "\n",
        "        if choice == '1':\n",
        "            return greeting_template_1(name)\n",
        "        elif choice == '2':\n",
        "            return greeting_template_2(name)\n",
        "        elif choice == '3':\n",
        "            return greeting_template_3(name)\n",
        "        else:\n",
        "            return \"Invalid choice. Please select 1, 2, or 3.\"\n",
        "\n",
        "    return select_greeting()\n",
        "\n",
        "\n",
        "greeting = greeting_generator()\n",
        "print(greeting)\n"
      ],
      "metadata": {
        "colab": {
          "base_uri": "https://localhost:8080/"
        },
        "id": "y2mMzSdfsfyD",
        "outputId": "da67e43a-7d91-4e3e-ffa9-0ee4a46f5075"
      },
      "execution_count": null,
      "outputs": [
        {
          "output_type": "stream",
          "name": "stdout",
          "text": [
            "Enter your name: Aunto\n",
            "Select a greeting template:\n",
            "1. Formal\n",
            "2. Friendly\n",
            "3. Casual\n",
            "Enter the number of your choice: 1\n",
            "Hello, Aunto! How are you today?\n"
          ]
        }
      ]
    },
    {
      "cell_type": "markdown",
      "source": [
        "110. Temperature Converter: Write a Python function called `temperature_converter` that takes a temperature value and a string representing the scale (‘C’ for Celsius or ‘F’ for Fahrenheit) as input. The function should convert the temperature from one scale to the other using nested functions and return the converted value."
      ],
      "metadata": {
        "id": "Szq4mHAqG66G"
      }
    },
    {
      "cell_type": "code",
      "source": [
        "def temperature_converter():\n",
        "    temp = float(input(\"Enter the temperature value: \"))\n",
        "    scale = input(\"Enter the scale ('C' for Celsius, 'F' for Fahrenheit): \").upper()\n",
        "\n",
        "    def celsius_to_fahrenheit(celsius):\n",
        "        return (celsius * 9/5) + 32\n",
        "\n",
        "    def fahrenheit_to_celsius(fahrenheit):\n",
        "        return (fahrenheit - 32) * 5/9\n",
        "\n",
        "    if scale == 'C':\n",
        "        converted_temp = celsius_to_fahrenheit(temp)\n",
        "        return f\"{temp} degrees Celsius is {converted_temp:.2f} degrees Fahrenheit.\"\n",
        "    elif scale == 'F':\n",
        "        converted_temp = fahrenheit_to_celsius(temp)\n",
        "        return f\"{temp} degrees Fahrenheit is {converted_temp:.2f} degrees Celsius.\"\n",
        "    else:\n",
        "        return \"Error: Invalid scale. Please use 'C' for Celsius or 'F' for Fahrenheit.\"\n",
        "\n",
        "\n",
        "print(temperature_converter())\n"
      ],
      "metadata": {
        "colab": {
          "base_uri": "https://localhost:8080/"
        },
        "id": "oTTNoT92G-Ym",
        "outputId": "f2dfb330-d64a-4b31-cd61-f3999af17084"
      },
      "execution_count": null,
      "outputs": [
        {
          "output_type": "stream",
          "name": "stdout",
          "text": [
            "Enter the temperature value: 5\n",
            "Enter the scale ('C' for Celsius, 'F' for Fahrenheit): c\n",
            "5.0 degrees Celsius is 41.00 degrees Fahrenheit.\n"
          ]
        }
      ]
    },
    {
      "cell_type": "markdown",
      "source": [
        "111. Factorial Calculation: Write a recursive Python function called `factorial` that takes a non-negative integer as input and returns its factorial."
      ],
      "metadata": {
        "id": "AU8DGj0kp-_1"
      }
    },
    {
      "cell_type": "code",
      "source": [
        "def factorial(n):\n",
        "    if n < 0:\n",
        "        raise ValueError(\"Input must be a non-negative integer\")\n",
        "    elif n == 0 or n == 1:\n",
        "        return 1\n",
        "    else:\n",
        "        return n * factorial(n - 1)\n",
        "\n",
        "try:\n",
        "    user_input = int(input(\"Enter a non-negative integer: \"))\n",
        "    result = factorial(user_input)\n",
        "    print(f\"The factorial of {user_input} is {result}\")\n",
        "except ValueError as e:\n",
        "    print(e)\n"
      ],
      "metadata": {
        "colab": {
          "base_uri": "https://localhost:8080/"
        },
        "id": "gBKYkwUtqAvC",
        "outputId": "3bf184ce-a028-48d4-da84-3a45bad0db37"
      },
      "execution_count": 3,
      "outputs": [
        {
          "output_type": "stream",
          "name": "stdout",
          "text": [
            "Enter a non-negative integer: 8\n",
            "The factorial of 8 is 40320\n"
          ]
        }
      ]
    },
    {
      "cell_type": "markdown",
      "source": [
        "112. Fibonacci Series: Write a recursive Python function called `Fibonacci` that takes an integer N as input and returns the Nth number in the Fibonacci series. The Fibonacci series is defined as follows: F(0) = 0, F(1) = 1, and F(n) = F(n-1) + F(n-2) for n > 1."
      ],
      "metadata": {
        "id": "K5WAqrJNtD9T"
      }
    },
    {
      "cell_type": "code",
      "source": [
        "def Fibonacci(n):\n",
        "\n",
        "    if n < 0:\n",
        "        raise ValueError(\"Input must be a non-negative integer\")\n",
        "    elif n == 0:\n",
        "        return 0\n",
        "    elif n == 1:\n",
        "        return 1\n",
        "    else:\n",
        "        return Fibonacci(n - 1) + Fibonacci(n - 2)\n",
        "\n",
        "# Prompt user for input\n",
        "try:\n",
        "    N = int(input(\"Enter a non-negative integer: \"))\n",
        "    result = Fibonacci(N)\n",
        "    print(f\"The {user_input}th number in the Fibonacci series is {result}\")\n",
        "except ValueError as e:\n",
        "    print(e)\n"
      ],
      "metadata": {
        "colab": {
          "base_uri": "https://localhost:8080/"
        },
        "id": "znV7vLXktEdJ",
        "outputId": "b4a84311-5052-4ccc-8435-b5252ca47791"
      },
      "execution_count": 4,
      "outputs": [
        {
          "output_type": "stream",
          "name": "stdout",
          "text": [
            "Enter a non-negative integer: 9\n",
            "The 8th number in the Fibonacci series is 34\n"
          ]
        }
      ]
    },
    {
      "cell_type": "markdown",
      "source": [
        "113. The sum of Digits: Write a recursive Python function called `sum_of_digits` that takes an integer as input and returns the sum of its digits."
      ],
      "metadata": {
        "id": "4PUxZG0htsqI"
      }
    },
    {
      "cell_type": "code",
      "source": [
        "def sum_of_digits(n):\n",
        "\n",
        "    n = abs(n)\n",
        "\n",
        "    if n == 0:\n",
        "        return 0\n",
        "    else:\n",
        "        return n % 10 + sum_of_digits(n // 10)\n",
        "\n",
        "\n",
        "try:\n",
        "    user_input = int(input(\"Enter an integer: \"))\n",
        "    result = sum_of_digits(user_input)\n",
        "    print(f\"The sum of the digits of {user_input} is {result}\")\n",
        "except ValueError as e:\n",
        "    print(\"Please enter a valid integer.\")\n"
      ],
      "metadata": {
        "colab": {
          "base_uri": "https://localhost:8080/"
        },
        "id": "igr5mfTpuh4q",
        "outputId": "1dc0bce0-ef9e-4adc-e9a6-fb77e81b6a43"
      },
      "execution_count": 5,
      "outputs": [
        {
          "output_type": "stream",
          "name": "stdout",
          "text": [
            "Enter an integer: 567\n",
            "The sum of the digits of 567 is 18\n"
          ]
        }
      ]
    },
    {
      "cell_type": "markdown",
      "source": [
        "114. Binary Search: Write a recursive Python function called `binary_search` that takes a sorted list and a target value as input and returns the index of the target value in the list using binary search. If the target value is not in the list, return -1."
      ],
      "metadata": {
        "id": "pk0IwHUEuvXE"
      }
    },
    {
      "cell_type": "code",
      "source": [
        "def binary_search(arr, target, low=0, high=None):\n",
        "\n",
        "    if high is None:\n",
        "        high = len(arr) - 1\n",
        "\n",
        "    if low > high:\n",
        "        return -1\n",
        "\n",
        "    mid = (low + high) // 2\n",
        "\n",
        "    if arr[mid] == target:\n",
        "        return mid\n",
        "    elif arr[mid] < target:\n",
        "        return binary_search(arr, target, mid + 1, high)\n",
        "    else:\n",
        "        return binary_search(arr, target, low, mid - 1)\n",
        "\n",
        "try:\n",
        "    user_input_list = input(\"Enter a sorted list of numbers separated by spaces: \")\n",
        "    sorted_list = list(map(int, user_input_list.split()))\n",
        "    target_value = int(input(\"Enter the target value: \"))\n",
        "    result = binary_search(sorted_list, target_value)\n",
        "    if result != -1:\n",
        "        print(f\"The index of {target_value} in the list is {result}\")\n",
        "    else:\n",
        "        print(-1)\n",
        "except ValueError:\n",
        "    print(\"Please enter valid integers.\")\n"
      ],
      "metadata": {
        "colab": {
          "base_uri": "https://localhost:8080/"
        },
        "id": "x5qFJVlnu13W",
        "outputId": "c4160c09-adee-433c-90bc-263af010d60a"
      },
      "execution_count": 8,
      "outputs": [
        {
          "output_type": "stream",
          "name": "stdout",
          "text": [
            "Enter a sorted list of numbers separated by spaces: 7 8 90\n",
            "Enter the target value: 6\n",
            "-1\n"
          ]
        }
      ]
    },
    {
      "cell_type": "markdown",
      "source": [
        "115. Power Calculation: Write a recursive Python function called `power` that takes two positive integers, base and exponent, as input and returns the value of base raised to the exponent."
      ],
      "metadata": {
        "id": "4UMj0WbawVnL"
      }
    },
    {
      "cell_type": "code",
      "source": [
        "def power(base, exponent):\n",
        "\n",
        "    if exponent < 0:\n",
        "        raise ValueError(\"Exponent must be a non-negative integer\")\n",
        "    elif exponent == 0:\n",
        "        return 1\n",
        "    else:\n",
        "        return base * power(base, exponent - 1)\n",
        "\n",
        "\n",
        "try:\n",
        "    base = int(input(\"Enter the base (a positive integer): \"))\n",
        "    exponent = int(input(\"Enter the exponent (a non-negative integer): \"))\n",
        "    if base < 0 or exponent < 0:\n",
        "        raise ValueError(\"Both base and exponent must be non-negative integers\")\n",
        "    result = power(base, exponent)\n",
        "    print(f\"{base} raised to the power of {exponent} is {result}\")\n",
        "except ValueError as e:\n",
        "    print(e)\n"
      ],
      "metadata": {
        "colab": {
          "base_uri": "https://localhost:8080/"
        },
        "id": "zBCVCgT6waE0",
        "outputId": "71421dd7-065a-49db-a20b-e2bb51eaf866"
      },
      "execution_count": 9,
      "outputs": [
        {
          "output_type": "stream",
          "name": "stdout",
          "text": [
            "Enter the base (a positive integer): 7\n",
            "Enter the exponent (a non-negative integer): 6\n",
            "7 raised to the power of 6 is 117649\n"
          ]
        }
      ]
    },
    {
      "cell_type": "markdown",
      "source": [],
      "metadata": {
        "id": "KF-h4N9ZIGcV"
      }
    },
    {
      "cell_type": "markdown",
      "source": [],
      "metadata": {
        "id": "DhFcGWty7n-J"
      }
    }
  ]
}